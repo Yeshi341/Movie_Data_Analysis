{
 "cells": [
  {
   "cell_type": "markdown",
   "metadata": {},
   "source": [
    "Import Data"
   ]
  },
  {
   "cell_type": "markdown",
   "metadata": {},
   "source": [
    "# Entering the Movie Industry\n",
    "\n",
    "**Authors:** Lhamu Tsering, Justin Fernandez\n",
    "***"
   ]
  },
  {
   "cell_type": "markdown",
   "metadata": {},
   "source": [
    "## Overview"
   ]
  },
  {
   "cell_type": "markdown",
   "metadata": {},
   "source": [
    "## Business Problem\n",
    "Microsoft wants to join in on the other big companies starting to make video content like Netflix, Amazon Prime Video, and many others. Without much experience in the field, they need our help with getting an insight into what they should be creating to be the most successful. \n",
    "\n",
    "The questions that we seek to answer are:\n",
    "1. What genre of movie is the most successful domestically / worldwide?\n",
    "2. Who should be hired to give the highest chance of a highly rated movie?\n",
    "\n",
    "\n",
    "The reason we seek to anser those questions:\n",
    "1. For a new company a couple unncessful movie could be the demise of their brand a chance of making it in the market. By creating movies with genres that appeal to the most people you give yourself the highest chance of a positive return on investment.\n",
    "2. Some actors, directors, and others on the movie set are better than others. Hiring those who a part of highly rated movies gives you better chance of creating a good movie.\n",
    "\n",
    "\n",
    "**FROM TEMPLATE**\n",
    "\n",
    "Questions to consider:\n",
    "* What are the business's pain points related to this project?\n",
    "* How did you pick the data analysis question(s) that you did?\n",
    "* Why are these questions important from a business perspective?\n",
    "\n",
    "**FROM TEMPLATE**\n",
    "***"
   ]
  },
  {
   "cell_type": "markdown",
   "metadata": {},
   "source": [
    "## Data Understanding\n",
    "\n",
    "The data used in this project comes from websites that specialize in movies/tv-shows and all information on those. The websites are Box Office Mojo, IMDb, Rotten Tomatoes, and TheMovieDB.org. In order to get a better understanding I am going to highlight the key components of each dataset.\n",
    "1. **imdb.title.crew.csv.gz** - This contains the directors and writers for 146,000 movies. (146144 rows × 3 columns)\n",
    "2. **tmdb.movies.csv.gz** - This conains IMDb information like rating, popularity, and id. Along with that it also has the genres, release date, and title. (26517 rows × 10 columns)\n",
    "3. **imdb.title.akas.csv.gz** - This contains the titles used in other countries. (331703 rows × 8 columns)\n",
    "4. **imdb.name.basics.csv.gz** - This contains the employess of the movie and their specfic role. (606648 rows × 6 columns)\n",
    "5. **rt.reviews.tsv.gz** - This contains the reiews given on Rotten Tomatoes as well as the information about the reviewer. (54432 rows × 8 columns)\n",
    "6. **imdb.title.basics.csv.gz** - This contains the general infomation on a movie like start year, runtime, and genres. (146144 rows × 6 columns)\n",
    "7. **rt.movie_info.tsv.gz** - This contains the general information that Rotten Tomatoes provides. This includes a synopsis, rating, genre, directors, and much more. (1560 rows × 12 columns)\n",
    "8. **tn.movie_budgets.csv.gz** - This contains the budget and gross income. (5782 rows × 6 columns)\n",
    "9. **bom.movie_gross.csv.gz** - This contains the domestic and foreign gross. (3387 rows × 5 columns)\n",
    "10. **imdb.title.principals.csv.gz** - This contains information on actors and the movies they were in. (1028186 rows × 6 columns)\n",
    "\n",
    "In order to answer question one, I will be using the **tmdb.movies.csv.gz** and **bom.movie_gross.csv.gz**. The reason for the **tmdb.movies.csv.gz** dataset is to access all movie titles along with their genre ids. The **bom.movie_gross.csv.gz** dataest will be used to access the domestic box office for every movie in that dataset. These two splices of the dataset will be combined to show the domestic box office per movie whihc will then be further processed to show box office based on genre.\n",
    "\n",
    "In order to answer question two, I will be using the **imdb.name.basics.csv.gz** and **imdb.title.ratings.csv.gz**. The **imdb.name.basics.csv.gz** will be used to access all the employees of movies along with their respective titles they are most known for. The **imdb.title.ratings.csv.gz** will be used to asign ratings to the movies that the employees are most known for. This will allow me to rank players based off the ratings of their most known movie.\n",
    "\n",
    "***\n",
    "**FROM TEMPLATE**\n",
    "\n",
    "Questions to consider:\n",
    "* Where did the data come from, and how do they relate to the data analysis questions?\n",
    "* What do the data represent? Who is in the sample and what variables are included?\n",
    "* What is the target variable?\n",
    "* What are the properties of the variables you intend to use?\n",
    "\n",
    "**FROM TEMPLATE**\n",
    "***"
   ]
  },
  {
   "cell_type": "markdown",
   "metadata": {},
   "source": [
    "## Data Preparation\n",
    "\n",
    "Describe and justify the process for preparing the data for analysis.\n",
    "\n",
    "***\n",
    "Questions to consider:\n",
    "* Were there variables you dropped or created?\n",
    "* How did you address missing values or outliers?\n",
    "* Why are these choices appropriate given the data and the business problem?\n",
    "***"
   ]
  },
  {
   "cell_type": "code",
   "execution_count": 17,
   "metadata": {},
   "outputs": [],
   "source": [
    "# Here you run your code to clean the data"
   ]
  },
  {
   "cell_type": "markdown",
   "metadata": {},
   "source": [
    "## Data Modeling\n",
    "Describe and justify the process for analyzing or modeling the data.\n",
    "\n",
    "***\n",
    "Questions to consider:\n",
    "* How did you analyze or model the data?\n",
    "* How did you iterate on your initial approach to make it better?\n",
    "* Why are these choices appropriate given the data and the business problem?\n",
    "***"
   ]
  },
  {
   "cell_type": "code",
   "execution_count": 18,
   "metadata": {},
   "outputs": [],
   "source": [
    "# Here you run your code to model the data"
   ]
  },
  {
   "cell_type": "markdown",
   "metadata": {},
   "source": [
    "## Evaluation\n",
    "Evaluate how well your work solves the stated business problem.\n",
    "\n",
    "***\n",
    "Questions to consider:\n",
    "* How do you interpret the results?\n",
    "* How well does your model fit your data? How much better is this than your baseline model?\n",
    "* How confident are you that your results would generalize beyond the data you have?\n",
    "* How confident are you that this model would benefit the business if put into use?\n",
    "***"
   ]
  },
  {
   "cell_type": "markdown",
   "metadata": {},
   "source": [
    "## Conclusions\n",
    "Provide your conclusions about the work you've done, including any limitations or next steps.\n",
    "\n",
    "***\n",
    "Questions to consider:\n",
    "* What would you recommend the business do as a result of this work?\n",
    "* What are some reasons why your analysis might not fully solve the business problem?\n",
    "* What else could you do in the future to improve this project?\n",
    "***"
   ]
  },
  {
   "cell_type": "markdown",
   "metadata": {},
   "source": [
    "# ------------------------------------------------------"
   ]
  },
  {
   "cell_type": "code",
   "execution_count": 19,
   "metadata": {},
   "outputs": [],
   "source": [
    "# Importing os for getting path names for data\n",
    "import os\n",
    "# Importing pandas \n",
    "import pandas as pd\n",
    "import numpy as np\n",
    "import matplotlib.pyplot as plt\n",
    "%matplotlib inline"
   ]
  },
  {
   "cell_type": "code",
   "execution_count": 20,
   "metadata": {},
   "outputs": [],
   "source": [
    "data_path = os.path.join('data','zippedData')\n",
    "files = os.listdir(data_path)"
   ]
  },
  {
   "cell_type": "code",
   "execution_count": 21,
   "metadata": {},
   "outputs": [],
   "source": [
    "import_paths = [os.path.join(data_path,file) for file in files]"
   ]
  },
  {
   "cell_type": "code",
   "execution_count": 23,
   "metadata": {},
   "outputs": [],
   "source": [
    "data = {}\n",
    "for path in import_paths:\n",
    "    try:\n",
    "        df = pd.read_csv(path) #this will fail on the .tsv\n",
    "    except:\n",
    "        df = pd.read_csv(path,delimiter='\\t', encoding='unicode_escape')\n",
    "    data[path.split('/')[-1]] = df"
   ]
  },
  {
   "cell_type": "code",
   "execution_count": 63,
   "metadata": {},
   "outputs": [
    {
     "data": {
      "text/plain": [
       "dict_keys(['imdb.title.crew.csv.gz', 'tmdb.movies.csv.gz', 'imdb.title.akas.csv.gz', 'imdb.title.ratings.csv.gz', 'imdb.name.basics.csv.gz', 'rt.reviews.tsv.gz', 'imdb.title.basics.csv.gz', 'rt.movie_info.tsv.gz', 'tn.movie_budgets.csv.gz', 'bom.movie_gross.csv.gz', 'imdb.title.principals.csv.gz'])"
      ]
     },
     "execution_count": 63,
     "metadata": {},
     "output_type": "execute_result"
    }
   ],
   "source": [
    "data.keys()"
   ]
  },
  {
   "cell_type": "markdown",
   "metadata": {},
   "source": [
    "# Looking into a new idea"
   ]
  },
  {
   "cell_type": "markdown",
   "metadata": {},
   "source": [
    "data['rt.movie_info.tsv.gz'] - has movie ids that could be used to suplement other dataset"
   ]
  },
  {
   "cell_type": "markdown",
   "metadata": {},
   "source": [
    "data['tn.movie_budgets.csv.gz'] - has domestic and worldwide gross"
   ]
  },
  {
   "cell_type": "markdown",
   "metadata": {},
   "source": [
    "# All movie data sets imported in to variable 'data'"
   ]
  },
  {
   "cell_type": "markdown",
   "metadata": {},
   "source": [
    "## (1) Looking at the idea of comparing the gross income from domestic and foreign based on the genre that movie has been classified as from bom.movie_gross.csv.gz'"
   ]
  },
  {
   "cell_type": "markdown",
   "metadata": {},
   "source": [
    "The first question that I seek to answer is what genre of movie makes the most money. Of course Microsoft is a company and they seek to make the most money. Knowing what kind of movie allows you to make the most money on average gives the best chance of a movie making profit.\n",
    "\n",
    "The first step in this process was to isolate the data needed to answer this question. The first data set is from IMDB where each row contains the title of the movie along with a list of genre's. The second data set is from Box Office Mojo containing the title of a movie as well as the total domestic gross box office.\n",
    "\n",
    "The final dataframe that I am going to analyze are these two data sets joined by title to have the genre and total box office income for every movie."
   ]
  },
  {
   "cell_type": "code",
   "execution_count": 53,
   "metadata": {},
   "outputs": [],
   "source": [
    "#getting movie title and genre from the df\n",
    "id_df = data['tmdb.movies.csv.gz'].loc[:,['genre_ids','original_title']]\n",
    "#changing column title to be the same with other df\n",
    "id_df.rename(columns={'original_title':'title'},inplace=True)\n",
    "#getting the title and gross into sep df\n",
    "money_df = data['bom.movie_gross.csv.gz'].loc[:,['title','domestic_gross']]\n",
    "#merging the movie info with the gross income info\n",
    "money_id_df = money_df.merge(id_df,how='left',on='title') \n",
    "#dropping duplicate titles that had wrong id's\n",
    "money_id_df.drop_duplicates(subset='title',inplace = True)\n",
    "#getting rid of movies that do not have genres\n",
    "money_id_df.dropna(subset=['genre_ids'],inplace=True)\n",
    "# dropping columns that do no have domestic_gross\n",
    "money_id_df.dropna(subset=['domestic_gross'],inplace=True)"
   ]
  },
  {
   "cell_type": "markdown",
   "metadata": {},
   "source": [
    "Now that the data is cleaned and stored I am going to change all genre ID's into the genre that they represent."
   ]
  },
  {
   "cell_type": "code",
   "execution_count": 54,
   "metadata": {},
   "outputs": [],
   "source": [
    "genre_id_to_string = {28:'action',\n",
    "                      16:'animated',\n",
    "                      99:'documentary',\n",
    "                      18:'drama',\n",
    "                      10751:'family',\n",
    "                      14:'fantasy',\n",
    "                      36:'history',\n",
    "                      35:'comedy',\n",
    "                      10752:'war',\n",
    "                      80:'crime',\n",
    "                      10402:'music',\n",
    "                      9648:'mystery',\n",
    "                      10749:'romance',\n",
    "                      878:'sci-fi',\n",
    "                      27:'horror',\n",
    "                      10770:'TV-movie',\n",
    "                      53:'thriller',\n",
    "                      37:'western',\n",
    "                      12:'adventure'}"
   ]
  },
  {
   "cell_type": "code",
   "execution_count": 55,
   "metadata": {},
   "outputs": [],
   "source": [
    "def convert_id_to_name(id_list):\n",
    "    id_list = id_list[1:-1].replace(',','').split()\n",
    "    for id in enumerate(id_list):\n",
    "        id_list[id[0]] = genre_id_to_string[int(id[1])]\n",
    "    return(id_list)"
   ]
  },
  {
   "cell_type": "code",
   "execution_count": 56,
   "metadata": {
    "scrolled": true
   },
   "outputs": [],
   "source": [
    "# applying convert_id_to_name so that the ids are now readable names\n",
    "money_id_df.genre_ids = money_id_df.genre_ids.apply(lambda x: 'nan' if str(x) == 'nan' else convert_id_to_name(x))\n",
    "#dictionary to hold the following key value pairs:\n",
    "# key = genre, value = total money grossed\n",
    "money_for_each_genre = {}\n",
    "for genre_money in money_id_df.iterrows():\n",
    "    ids = list(genre_money[1])[-1]\n",
    "    money = list(genre_money[1])[-2]\n",
    "    if ids != 'nan':\n",
    "        for id in ids:\n",
    "            if id in money_for_each_genre.keys():\n",
    "                money_for_each_genre[id].append(money) \n",
    "            else:\n",
    "                money_for_each_genre[id] = [money]\n",
    "# going through dictionary to take the mean of all movies in a genre\n",
    "for genre_money in money_for_each_genre.items():\n",
    "    money_list = genre_money[1]\n",
    "    money_for_each_genre[genre_money[0]] = int(np.mean(money_list))\n",
    "# converting back to dataframe for easy sorting / extraction for graphing\n",
    "final_dataframe = pd.DataFrame.from_dict(money_for_each_genre,orient='index')\n",
    "final_dataframe.sort_values(by=0,ascending=False,inplace=True)"
   ]
  },
  {
   "cell_type": "code",
   "execution_count": 57,
   "metadata": {
    "scrolled": true
   },
   "outputs": [
    {
     "data": {
      "text/plain": [
       "Text(0, 0.5, 'Gross Domestic Box Office')"
      ]
     },
     "execution_count": 57,
     "metadata": {},
     "output_type": "execute_result"
    },
    {
     "data": {
      "image/png": "[encoded data removed]",
      "text/plain": [
       "<Figure size 1440x288 with 1 Axes>"
      ]
     },
     "metadata": {
      "needs_background": "light"
     },
     "output_type": "display_data"
    }
   ],
   "source": [
    "x = final_dataframe.index\n",
    "y = final_dataframe.iloc[:,0]\n",
    "fig = plt.figure(figsize = (20,4))\n",
    "ax = fig.subplots()\n",
    "ax.bar(x,y,color='salmon')\n",
    "ax.set_title('Gross Domestic Box Office vs Genre of Movie')\n",
    "ax.set_xlabel('Genre of Movie')\n",
    "ax.set_ylabel('Gross Domestic Box Office')\n"
   ]
  },
  {
   "cell_type": "markdown",
   "metadata": {},
   "source": [
    "box and wisker showing each id"
   ]
  },
  {
   "cell_type": "markdown",
   "metadata": {},
   "source": [
    "## (2) Looking at different data sets gross income"
   ]
  },
  {
   "cell_type": "markdown",
   "metadata": {},
   "source": [
    "for item in data:\n",
    "    print(item)"
   ]
  },
  {
   "cell_type": "code",
   "execution_count": 60,
   "metadata": {},
   "outputs": [],
   "source": [
    "# get the gross income from domestic and worldwide\n",
    "tn_money = data['tn.movie_budgets.csv.gz']\n",
    "tn_money.rename(columns={'movie':'title'},inplace=True)\n",
    "# get the genre ids\n",
    "imdb_movies = data['tmdb.movies.csv.gz'].loc[:,['genre_ids','original_title']]\n",
    "imdb_movies.rename(columns={'original_title':'title'},inplace=True)\n",
    "# merge the two cells on title\n",
    "money_for_movies = imdb_movies.merge(tn_money,how='left',on='title') \n",
    "# select wanted data\n",
    "money_for_movies = money_for_movies.loc[:,['title','genre_ids','domestic_gross','worldwide_gross']]\n",
    "# drop columns without a domestic gross\n",
    "money_for_movies.dropna(subset=['domestic_gross'],inplace=True)\n",
    "# clean the money columns due to $ and ,\n",
    "def clean_money(money):\n",
    "    money = money.replace('$','')\n",
    "    return float(money.replace(',',''))\n",
    "# cleaning both money columns\n",
    "money_for_movies.domestic_gross = money_for_movies.domestic_gross.apply(lambda x: clean_money(x))\n",
    "money_for_movies.worldwide_gross = money_for_movies.worldwide_gross.apply(lambda x: clean_money(x))\n",
    "# creating a new column containing total gross income\n",
    "money_for_movies['total_gross'] = money_for_movies.domestic_gross + money_for_movies.worldwide_gross\n",
    "# converting genre ids to genres\n",
    "money_for_movies.genre_ids = money_for_movies.genre_ids.apply(lambda x: 'nan' if str(x) == 'nan' else convert_id_to_name(x))\n",
    "# adding money together by genre\n",
    "world_money = {}\n",
    "for item in money_for_movies.iterrows():\n",
    "    ids = list(item[1])[1]\n",
    "    money = list(item[1])[-1]\n",
    "    if ids != 'nan':\n",
    "        for id in ids:\n",
    "            if id in world_money.keys():\n",
    "                world_money[id].append(money)\n",
    "            else:\n",
    "                world_money[id] = [money]\n",
    "# going through dictionary to take the mean of all movies in a genre\n",
    "for money_genre in world_money.items():\n",
    "    money_list = money_genre[1]\n",
    "    world_money[money_genre[0]] = int(np.mean(money_list))\n",
    "# creating a DataFrame from the dictionary\n",
    "output_dataframe = pd.DataFrame.from_dict(world_money, orient='index')\n",
    "# sorting value based on total box office income\n",
    "output_dataframe.sort_values(by=0,ascending=False,inplace=True)"
   ]
  },
  {
   "cell_type": "code",
   "execution_count": 61,
   "metadata": {},
   "outputs": [],
   "source": [
    "import matplotlib.pyplot as plt\n",
    "%matplotlib inline"
   ]
  },
  {
   "cell_type": "code",
   "execution_count": 62,
   "metadata": {
    "scrolled": true
   },
   "outputs": [
    {
     "data": {
      "text/plain": [
       "Text(0, 0.5, 'Gross Domestic Box Office')"
      ]
     },
     "execution_count": 62,
     "metadata": {},
     "output_type": "execute_result"
    },
    {
     "data": {
      "image/png": "[encoded data removed]",
      "text/plain": [
       "<Figure size 1440x288 with 1 Axes>"
      ]
     },
     "metadata": {
      "needs_background": "light"
     },
     "output_type": "display_data"
    }
   ],
   "source": [
    "x = output_dataframe.index\n",
    "y = output_dataframe.iloc[:,0]\n",
    "fig = plt.figure(figsize = (20,4))\n",
    "ax = fig.subplots()\n",
    "ax.bar(x,y,color='skyblue')\n",
    "ax.set_title('Gross Domestic Box Office vs Genre of Movie')\n",
    "ax.set_xlabel('Genre of Movie')\n",
    "ax.set_ylabel('Gross Domestic Box Office')\n"
   ]
  },
  {
   "cell_type": "markdown",
   "metadata": {},
   "source": [
    "# (3) new question to answer\n"
   ]
  },
  {
   "cell_type": "code",
   "execution_count": 43,
   "metadata": {},
   "outputs": [],
   "source": [
    "movie_rating = data['imdb.title.ratings.csv.gz'][['tconst','averagerating']]"
   ]
  },
  {
   "cell_type": "code",
   "execution_count": 44,
   "metadata": {},
   "outputs": [],
   "source": [
    "movie_rating.set_index('tconst',inplace=True)"
   ]
  },
  {
   "cell_type": "code",
   "execution_count": 45,
   "metadata": {},
   "outputs": [],
   "source": [
    "tconst_to_rating = movie_rating.to_dict('index')"
   ]
  },
  {
   "cell_type": "code",
   "execution_count": 46,
   "metadata": {
    "scrolled": true
   },
   "outputs": [],
   "source": [
    "best_people = data['imdb.name.basics.csv.gz'].dropna(subset=['known_for_titles'])"
   ]
  },
  {
   "cell_type": "code",
   "execution_count": 47,
   "metadata": {},
   "outputs": [],
   "source": [
    "def change_to_name(tconst_string): #x going to be a string 'tt0837562,tt2398241,tt0844471,tt0118553'\n",
    "    tconst_list = tconst_string[1:-1].split(',')\n",
    "    rating_list = []\n",
    "    for tconst in tconst_list:\n",
    "        try:\n",
    "            rating_list.append(tconst_to_rating[tconst]['averagerating'])\n",
    "        except:\n",
    "            pass\n",
    "    #return rating_list\n",
    "    if len(rating_list)>0:\n",
    "        return np.mean(rating_list)\n",
    "    else:\n",
    "        return np.nan"
   ]
  },
  {
   "cell_type": "code",
   "execution_count": 48,
   "metadata": {},
   "outputs": [
    {
     "data": {
      "text/plain": [
       "6.0"
      ]
     },
     "execution_count": 48,
     "metadata": {},
     "output_type": "execute_result"
    }
   ],
   "source": [
    "change_to_name('tt0837562,tt2398241,tt0844471,tt0118553')"
   ]
  },
  {
   "cell_type": "code",
   "execution_count": 49,
   "metadata": {
    "scrolled": false
   },
   "outputs": [
    {
     "name": "stderr",
     "output_type": "stream",
     "text": [
      "/opt/anaconda3/envs/learn-env/lib/python3.6/site-packages/ipykernel_launcher.py:1: SettingWithCopyWarning: \n",
      "A value is trying to be set on a copy of a slice from a DataFrame.\n",
      "Try using .loc[row_indexer,col_indexer] = value instead\n",
      "\n",
      "See the caveats in the documentation: http://pandas.pydata.org/pandas-docs/stable/user_guide/indexing.html#returning-a-view-versus-a-copy\n",
      "  \"\"\"Entry point for launching an IPython kernel.\n"
     ]
    }
   ],
   "source": [
    "best_people['average_rating'] = best_people.known_for_titles.apply(lambda x: change_to_name(x))"
   ]
  },
  {
   "cell_type": "code",
   "execution_count": 50,
   "metadata": {},
   "outputs": [
    {
     "name": "stderr",
     "output_type": "stream",
     "text": [
      "/opt/anaconda3/envs/learn-env/lib/python3.6/site-packages/ipykernel_launcher.py:1: SettingWithCopyWarning: \n",
      "A value is trying to be set on a copy of a slice from a DataFrame\n",
      "\n",
      "See the caveats in the documentation: http://pandas.pydata.org/pandas-docs/stable/user_guide/indexing.html#returning-a-view-versus-a-copy\n",
      "  \"\"\"Entry point for launching an IPython kernel.\n"
     ]
    }
   ],
   "source": [
    "best_people.dropna(subset=['average_rating'],inplace=True)"
   ]
  },
  {
   "cell_type": "code",
   "execution_count": 51,
   "metadata": {
    "scrolled": true
   },
   "outputs": [
    {
     "data": {
      "text/html": [
       "<div>\n",
       "<style scoped>\n",
       "    .dataframe tbody tr th:only-of-type {\n",
       "        vertical-align: middle;\n",
       "    }\n",
       "\n",
       "    .dataframe tbody tr th {\n",
       "        vertical-align: top;\n",
       "    }\n",
       "\n",
       "    .dataframe thead th {\n",
       "        text-align: right;\n",
       "    }\n",
       "</style>\n",
       "<table border=\"1\" class=\"dataframe\">\n",
       "  <thead>\n",
       "    <tr style=\"text-align: right;\">\n",
       "      <th></th>\n",
       "      <th>nconst</th>\n",
       "      <th>primary_name</th>\n",
       "      <th>birth_year</th>\n",
       "      <th>death_year</th>\n",
       "      <th>primary_profession</th>\n",
       "      <th>known_for_titles</th>\n",
       "      <th>average_rating</th>\n",
       "    </tr>\n",
       "  </thead>\n",
       "  <tbody>\n",
       "    <tr>\n",
       "      <th>574129</th>\n",
       "      <td>nm9216212</td>\n",
       "      <td>Louis Jay Jordan</td>\n",
       "      <td>NaN</td>\n",
       "      <td>NaN</td>\n",
       "      <td>actor</td>\n",
       "      <td>tt8862866,tt7259300,tt8332802,tt7986092</td>\n",
       "      <td>10.0</td>\n",
       "    </tr>\n",
       "    <tr>\n",
       "      <th>260117</th>\n",
       "      <td>nm3704168</td>\n",
       "      <td>Michiel Brongers</td>\n",
       "      <td>NaN</td>\n",
       "      <td>NaN</td>\n",
       "      <td>director,writer</td>\n",
       "      <td>tt2203394,tt6295832,tt1549132,tt1820401</td>\n",
       "      <td>10.0</td>\n",
       "    </tr>\n",
       "    <tr>\n",
       "      <th>497819</th>\n",
       "      <td>nm9219333</td>\n",
       "      <td>Mark Alan Campbell</td>\n",
       "      <td>NaN</td>\n",
       "      <td>NaN</td>\n",
       "      <td>actor</td>\n",
       "      <td>tt7282046,tt7227500,tt8844124,tt7710186</td>\n",
       "      <td>10.0</td>\n",
       "    </tr>\n",
       "    <tr>\n",
       "      <th>483189</th>\n",
       "      <td>nm6680574</td>\n",
       "      <td>Brian Baucum</td>\n",
       "      <td>NaN</td>\n",
       "      <td>NaN</td>\n",
       "      <td>camera_department,writer,editorial_department</td>\n",
       "      <td>tt3915326,tt4960818,tt8358508,tt8299862</td>\n",
       "      <td>10.0</td>\n",
       "    </tr>\n",
       "    <tr>\n",
       "      <th>519618</th>\n",
       "      <td>nm8791543</td>\n",
       "      <td>Emre Oran</td>\n",
       "      <td>NaN</td>\n",
       "      <td>NaN</td>\n",
       "      <td>art_director,director,writer</td>\n",
       "      <td>tt8792694,tt7259300,tt6206180</td>\n",
       "      <td>10.0</td>\n",
       "    </tr>\n",
       "    <tr>\n",
       "      <th>...</th>\n",
       "      <td>...</td>\n",
       "      <td>...</td>\n",
       "      <td>...</td>\n",
       "      <td>...</td>\n",
       "      <td>...</td>\n",
       "      <td>...</td>\n",
       "      <td>...</td>\n",
       "    </tr>\n",
       "    <tr>\n",
       "      <th>323146</th>\n",
       "      <td>nm4956040</td>\n",
       "      <td>Kôji Isayama</td>\n",
       "      <td>NaN</td>\n",
       "      <td>NaN</td>\n",
       "      <td>actor</td>\n",
       "      <td>tt2075560,tt5287132,tt3709556,tt1670662</td>\n",
       "      <td>1.0</td>\n",
       "    </tr>\n",
       "    <tr>\n",
       "      <th>342964</th>\n",
       "      <td>nm3819224</td>\n",
       "      <td>Luke Heaney</td>\n",
       "      <td>NaN</td>\n",
       "      <td>NaN</td>\n",
       "      <td>actor</td>\n",
       "      <td>tt1608596,tt1926214,tt2142714</td>\n",
       "      <td>1.0</td>\n",
       "    </tr>\n",
       "    <tr>\n",
       "      <th>162591</th>\n",
       "      <td>nm3086131</td>\n",
       "      <td>Gyô Miyamoto</td>\n",
       "      <td>NaN</td>\n",
       "      <td>NaN</td>\n",
       "      <td>actor</td>\n",
       "      <td>tt0369087,tt3262718,tt1804543</td>\n",
       "      <td>1.0</td>\n",
       "    </tr>\n",
       "    <tr>\n",
       "      <th>415012</th>\n",
       "      <td>nm5303822</td>\n",
       "      <td>Yoshitaka Hosokawa</td>\n",
       "      <td>NaN</td>\n",
       "      <td>NaN</td>\n",
       "      <td>actor</td>\n",
       "      <td>tt2431396,tt3588050,tt5452328,tt7847476</td>\n",
       "      <td>1.0</td>\n",
       "    </tr>\n",
       "    <tr>\n",
       "      <th>71486</th>\n",
       "      <td>nm0510890</td>\n",
       "      <td>Hui-Chin Lin</td>\n",
       "      <td>NaN</td>\n",
       "      <td>NaN</td>\n",
       "      <td>actor,producer,production_manager</td>\n",
       "      <td>tt1267160,tt0156610,tt7831076,tt7826256</td>\n",
       "      <td>1.0</td>\n",
       "    </tr>\n",
       "  </tbody>\n",
       "</table>\n",
       "<p>158688 rows × 7 columns</p>\n",
       "</div>"
      ],
      "text/plain": [
       "           nconst        primary_name  birth_year  death_year  \\\n",
       "574129  nm9216212    Louis Jay Jordan         NaN         NaN   \n",
       "260117  nm3704168    Michiel Brongers         NaN         NaN   \n",
       "497819  nm9219333  Mark Alan Campbell         NaN         NaN   \n",
       "483189  nm6680574        Brian Baucum         NaN         NaN   \n",
       "519618  nm8791543           Emre Oran         NaN         NaN   \n",
       "...           ...                 ...         ...         ...   \n",
       "323146  nm4956040        Kôji Isayama         NaN         NaN   \n",
       "342964  nm3819224         Luke Heaney         NaN         NaN   \n",
       "162591  nm3086131        Gyô Miyamoto         NaN         NaN   \n",
       "415012  nm5303822  Yoshitaka Hosokawa         NaN         NaN   \n",
       "71486   nm0510890        Hui-Chin Lin         NaN         NaN   \n",
       "\n",
       "                                   primary_profession  \\\n",
       "574129                                          actor   \n",
       "260117                                director,writer   \n",
       "497819                                          actor   \n",
       "483189  camera_department,writer,editorial_department   \n",
       "519618                   art_director,director,writer   \n",
       "...                                               ...   \n",
       "323146                                          actor   \n",
       "342964                                          actor   \n",
       "162591                                          actor   \n",
       "415012                                          actor   \n",
       "71486               actor,producer,production_manager   \n",
       "\n",
       "                               known_for_titles  average_rating  \n",
       "574129  tt8862866,tt7259300,tt8332802,tt7986092            10.0  \n",
       "260117  tt2203394,tt6295832,tt1549132,tt1820401            10.0  \n",
       "497819  tt7282046,tt7227500,tt8844124,tt7710186            10.0  \n",
       "483189  tt3915326,tt4960818,tt8358508,tt8299862            10.0  \n",
       "519618            tt8792694,tt7259300,tt6206180            10.0  \n",
       "...                                         ...             ...  \n",
       "323146  tt2075560,tt5287132,tt3709556,tt1670662             1.0  \n",
       "342964            tt1608596,tt1926214,tt2142714             1.0  \n",
       "162591            tt0369087,tt3262718,tt1804543             1.0  \n",
       "415012  tt2431396,tt3588050,tt5452328,tt7847476             1.0  \n",
       "71486   tt1267160,tt0156610,tt7831076,tt7826256             1.0  \n",
       "\n",
       "[158688 rows x 7 columns]"
      ]
     },
     "execution_count": 51,
     "metadata": {},
     "output_type": "execute_result"
    }
   ],
   "source": [
    "best_people.sort_values('average_rating',ascending=False)"
   ]
  },
  {
   "cell_type": "code",
   "execution_count": null,
   "metadata": {},
   "outputs": [],
   "source": []
  },
  {
   "cell_type": "code",
   "execution_count": null,
   "metadata": {},
   "outputs": [],
   "source": [
    "test_return"
   ]
  },
  {
   "cell_type": "code",
   "execution_count": null,
   "metadata": {},
   "outputs": [],
   "source": [
    "jobs = data['imdb.name.basics.csv.gz']\n",
    "\n",
    "job_dict = {}\n",
    "\n",
    "jobs.dropna(subset=['primary_profession'],inplace=True)\n",
    "\n",
    "for item in jobs.primary_profession:\n",
    "    try:\n",
    "        job_list = item.split(',')\n",
    "    except:\n",
    "        print(item)\n",
    "    for job in job_list:\n",
    "        if job in job_dict.keys():\n",
    "            job_dict[job] +=1\n",
    "        else:\n",
    "            job_dict[job] = 1\n",
    "\n",
    "x_job = []\n",
    "y_job = []\n",
    "for item in sorted(job_dict, key=job_dict.get):\n",
    "    x_job.append(item)\n",
    "    y_job.append(job_dict[item])"
   ]
  },
  {
   "cell_type": "code",
   "execution_count": null,
   "metadata": {
    "scrolled": true
   },
   "outputs": [],
   "source": [
    "fig_job = plt.figure(figsize=(8,10))\n",
    "plt.barh(x_job,y_job)\n"
   ]
  },
  {
   "cell_type": "code",
   "execution_count": null,
   "metadata": {},
   "outputs": [],
   "source": [
    "data.keys"
   ]
  },
  {
   "cell_type": "code",
   "execution_count": null,
   "metadata": {},
   "outputs": [],
   "source": [
    "data['imdb.title.ratings.csv.gz']"
   ]
  },
  {
   "cell_type": "code",
   "execution_count": null,
   "metadata": {},
   "outputs": [],
   "source": []
  },
  {
   "cell_type": "markdown",
   "metadata": {},
   "source": [
    "Look at what words are in good reviews and what words are in bad reviews"
   ]
  },
  {
   "cell_type": "code",
   "execution_count": null,
   "metadata": {
    "scrolled": true
   },
   "outputs": [],
   "source": [
    "df = data['rt.reviews.tsv.gz']\n",
    "df['fresh_number'] = df['fresh'].apply(lambda x: 0 if x=='rotten' else 1)\n",
    "fresh_perc = df.groupby('id')['fresh_number'].mean()\n",
    "fresh_perc"
   ]
  }
 ],
 "metadata": {
  "kernelspec": {
   "display_name": "learn-env",
   "language": "python",
   "name": "learn-env"
  },
  "language_info": {
   "codemirror_mode": {
    "name": "ipython",
    "version": 3
   },
   "file_extension": ".py",
   "mimetype": "text/x-python",
   "name": "python",
   "nbconvert_exporter": "python",
   "pygments_lexer": "ipython3",
   "version": "3.6.9"
  }
 },
 "nbformat": 4,
 "nbformat_minor": 4
}
