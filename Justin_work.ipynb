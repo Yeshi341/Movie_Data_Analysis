{
 "cells": [
  {
   "cell_type": "markdown",
   "metadata": {},
   "source": [
    "Import Data"
   ]
  },
  {
   "cell_type": "markdown",
   "metadata": {},
   "source": [
    "# Entering the Movie Industry\n",
    "\n",
    "**Authors:** Lhamu Tsering, Justin Fernandez\n",
    "***"
   ]
  },
  {
   "cell_type": "markdown",
   "metadata": {},
   "source": [
    "## Overview"
   ]
  },
  {
   "cell_type": "markdown",
   "metadata": {},
   "source": [
    "## Business Problem\n",
    "\n",
    "The OTT (Over-the-top) video streaming market has grown significantly in the last decade. Major OTT video streaming companies like Netflix, Amazon Prime Video, Hulu, have had much success in not just creating a platform for video streaming, but also creating their own original video content. The market size of the Movie and Video production industry is over $30 billion and Microsoft wants to join in. Without much experience in the field, they need our help with getting an insight into what they should be creating to be the most successful. \n",
    "\n",
    "**The questions that we seek to answer are**:\n",
    "1. What genre of movie is the most successful domestically / worldwide?\n",
    "2. Who should be hired to give the highest chance of a highly rated movie?\n",
    "3. \n",
    "4. What genre of movies are people most excited about voting on ?\n",
    "5. Are movie ratings affected by movie runtimes ?\n",
    "\n",
    "\n",
    "**The reason we seek to anser those questions**:\n",
    "1. For a new company a couple unncessful movie could be the demise of their brand a chance of making it in the market. By creating movies with genres that appeal to the most people you give yourself the highest chance of a positive return on investment.\n",
    "2. Some actors, directors, and others on the movie set are better than others. Hiring those who a part of highly rated movies gives you better chance of creating a good movie.\n",
    "3. \n",
    "4. Most probably than not, a person will only vote on a movie if they have seen it in the first place. For someone to be drawn to watch a movie and then actually go online to the imdb site and vote on it tells us that the movie brought some level of excitement. I wanted to find in what genre do the movies most voted on fall in. For Microsoft this inquiry tells them which genre movies are most popular among movie goers.\n",
    "5. In knowing whether the time length of a movie affects how high a movie is rated, gives us an idea of whether people are put off by long movies or not. Based on the data, we can also provide some inference on the ideal time length of a movie. \n",
    "\n",
    "\n",
    "**FROM TEMPLATE**\n",
    "\n",
    "Questions to consider:\n",
    "* What are the business's pain points related to this project?\n",
    "* How did you pick the data analysis question(s) that you did?\n",
    "* Why are these questions important from a business perspective?\n",
    "\n",
    "**FROM TEMPLATE**\n",
    "***"
   ]
  },
  {
   "cell_type": "markdown",
   "metadata": {},
   "source": [
    "## Data Understanding\n",
    "\n",
    "The data used in this project comes from websites that specialize in movies/tv-shows and all information on those. The websites are Box Office Mojo, IMDb, Rotten Tomatoes, and TheMovieDB.org. In order to get a better understanding I am going to highlight the key components of each dataset.\n",
    "1. **imdb.title.crew.csv.gz** - This contains the directors and writers for 146,000 movies. (146144 rows × 3 columns)\n",
    "2. **tmdb.movies.csv.gz** - This conains TMDb information like rating, popularity, and id. Along with that it also has the genres, release date, and title. (26517 rows × 10 columns)\n",
    "3. **imdb.title.akas.csv.gz** - This contains the titles used in other countries. (331703 rows × 8 columns)\n",
    "4. **imdb.name.basics.csv.gz** - This contains the employess of the movie and their specfic role. (606648 rows × 6 columns)\n",
    "5. **rt.reviews.tsv.gz** - This contains the reiews given on Rotten Tomatoes as well as the information about the reviewer. (54432 rows × 8 columns)\n",
    "6. **imdb.title.basics.csv.gz** - This contains the general infomation on a movie like start year, runtime, and genres. (146144 rows × 6 columns)\n",
    "7. **rt.movie_info.tsv.gz** - This contains the general information that Rotten Tomatoes provides. This includes a synopsis, rating, genre, directors, and much more. (1560 rows × 12 columns)\n",
    "8. **tn.movie_budgets.csv.gz** - This contains the budget and gross income. (5782 rows × 6 columns)\n",
    "9. **bom.movie_gross.csv.gz** - This contains the domestic and foreign gross. (3387 rows × 5 columns)\n",
    "10. **imdb.title.principals.csv.gz** - This contains information on actors and the movies they were in. (1028186 rows × 6 columns)\n",
    "11. **imdb.title.ratings.csv.gz** - This contains the movie ratings and the number of votes information from the IMDb site. (73856 rows x 3 columns)\n",
    "\n",
    "#### Question 1\n",
    "In order to answer question one, I will be using the **tmdb.movies.csv.gz** and **bom.movie_gross.csv.gz**. The reason for the **tmdb.movies.csv.gz** dataset is to access all movie titles along with their genre ids. The **bom.movie_gross.csv.gz** dataest will be used to access the domestic box office for every movie in that dataset. Box office is the total amount of money spent at movie theaters to see that specific movie. These two splices of the dataset will be combined to show the domestic box office per movie whihc will then be further processed to show box office based on genre.\n",
    "\n",
    "#### Question 2\n",
    "In order to answer question two, I will be using the **imdb.name.basics.csv.gz** and **imdb.title.ratings.csv.gz**. The **imdb.name.basics.csv.gz** will be used to access all the employees of movies along with their respective titles they are most known for. The **imdb.title.ratings.csv.gz** will be used to asign ratings to the movies that the employees are most known for. This will allow me to rank players based off the ratings of their most known movie.\n",
    "\n",
    "#### Question 3\n",
    "\n",
    "\n",
    "#### Question 4 and 5\n",
    "\n",
    "In order to answer questions four and five, the datasets **imdb.title.basics.csv.gz**, **imdb.title.ratings.csv.gz** and the **tmdb.movies.basics.gz** datasets were used. the datasets were merged to produce a single dataset called `movie_ratings_info`, on which all analysis was performed. This dataset includes the movies and their properties that describe it like, movie runtime, movie average rating, the number of voters who voted on the ratings, movie release dates, and the genre the movie belonged to. The dataset has 71097 observations across 11 variables. This compiled data will be further prepared to use for evaluation.\n",
    "\n",
    "The sample of movies in the dataset are movies that can be found on the IMDB and the TMDB websites and for whom movie rating information was available. The target variable here is the average rating a movie received. The average_rating variable is the average value of the movie ratings information from the two websites. An average rating value is between the range of 1 to 10 where 10 is the highest rating indicating a well approved movie. \n",
    "\n",
    "The ratings value from the IMDB site, is calculated by taking a weighted average for ratings provided by all IMDB user, according to the [IMDB](https://help.imdb.com/article/imdb/track-movies-tv/ratings-faq/G67Y87TFYYP6TWAV#calculate) site. The rating ranges from 1 to 10. \n",
    "For rating value from the TMDB site, when users go online on the TMDB site, they get to vote on the movies by how many stars they want to give on a range of 1 to 5. Each star carries two points which bring the vote up to a scale of 1 to 10.  \n",
    "\n",
    "***\n",
    "**FROM TEMPLATE**\n",
    "\n",
    "Questions to consider:\n",
    "* Where did the data come from, and how do they relate to the data analysis questions?\n",
    "* What do the data represent? Who is in the sample and what variables are included?\n",
    "* What is the target variable?\n",
    "* What are the properties of the variables you intend to use?\n",
    "\n",
    "**FROM TEMPLATE**\n",
    "***"
   ]
  },
  {
   "cell_type": "markdown",
   "metadata": {},
   "source": [
    "## Question 1 (a)\n"
   ]
  },
  {
   "cell_type": "markdown",
   "metadata": {},
   "source": [
    "### Data Preparation\n",
    "\n",
    "What genre of movie is the most successful domestically / worldwide?\n",
    "\n",
    "The first step of this process was to extract the data we needed from the tables and put them into their own dataframes. Next was to merge these two dataframes on the title of the movie so that I would have a table containing `title`, `genre_ids`, and `domestic_gross`.\n",
    "\n",
    "***\n",
    "Questions to consider:\n",
    "* Were there variables you dropped or created?\n",
    "* How did you address missing values or outliers?\n",
    "* Why are these choices appropriate given the data and the business problem?\n",
    "***"
   ]
  },
  {
   "cell_type": "code",
   "execution_count": 1,
   "metadata": {},
   "outputs": [],
   "source": [
    "# Importing os for getting path names for data\n",
    "import os\n",
    "# Importing pandas \n",
    "import pandas as pd\n",
    "import numpy as np\n",
    "import matplotlib.pyplot as plt\n",
    "%matplotlib inline"
   ]
  },
  {
   "cell_type": "code",
   "execution_count": 2,
   "metadata": {},
   "outputs": [],
   "source": [
    "data_path = os.path.join('data','zippedData')\n",
    "files = os.listdir(data_path)"
   ]
  },
  {
   "cell_type": "code",
   "execution_count": 3,
   "metadata": {},
   "outputs": [],
   "source": [
    "import_paths = [os.path.join(data_path,file) for file in files]"
   ]
  },
  {
   "cell_type": "code",
   "execution_count": 4,
   "metadata": {},
   "outputs": [],
   "source": [
    "data = {}\n",
    "for path in import_paths:\n",
    "    try:\n",
    "        df = pd.read_csv(path) #this will fail on the .tsv\n",
    "    except:\n",
    "        df = pd.read_csv(path,delimiter='\\t', encoding='unicode_escape')\n",
    "    data[path.split('/')[-1]] = df"
   ]
  },
  {
   "cell_type": "code",
   "execution_count": 5,
   "metadata": {},
   "outputs": [],
   "source": [
    "# getting movie title and genre from the df\n",
    "id_df = data['tmdb.movies.csv.gz'].loc[:,['genre_ids','original_title']]\n",
    "\n",
    "# changing column title to be the same with other df\n",
    "id_df.rename(columns={'original_title':'title'},inplace=True)\n",
    "\n",
    "# getting the title and gross into sep df\n",
    "money_df = data['bom.movie_gross.csv.gz'].loc[:,['title','domestic_gross']]\n",
    "\n",
    "# merging the movie info with the gross income info\n",
    "money_id_df = money_df.merge(id_df,how='left',on='title') "
   ]
  },
  {
   "cell_type": "markdown",
   "metadata": {},
   "source": [
    "The next step was to clean the dataframe so that there were niether duplicates nor NaN's. The data set where the `title` and `genre_ids` did contain duplicate movie titles but these were removed as their `genre_ids` were not correct. The next set of drops were to drop NaN's from `genre_ids` and `domestic_gross`. The problem here was that in the **tmdb.movies.csv.gz** dataframe some of the movies did not have `genre_ids` and was not due to the merge. The same problem applies to `domestic_gross` in that the **bom.movie_gross.csv.gz** dataframe did not have `domestic_gross` for all movies. "
   ]
  },
  {
   "cell_type": "code",
   "execution_count": 6,
   "metadata": {},
   "outputs": [],
   "source": [
    "# dropping duplicate titles that had wrong id's\n",
    "money_id_df.drop_duplicates(subset='title',inplace = True)\n",
    "\n",
    "# getting rid of movies that do not have genres\n",
    "money_id_df.dropna(subset=['genre_ids'],inplace=True)\n",
    "\n",
    "# dropping columns that do no have domestic_gross\n",
    "money_id_df.dropna(subset=['domestic_gross'],inplace=True)"
   ]
  },
  {
   "cell_type": "markdown",
   "metadata": {},
   "source": [
    "Now that the data is cleaned and stored I am going to change all genre ID's into the genre that they represent."
   ]
  },
  {
   "cell_type": "code",
   "execution_count": 7,
   "metadata": {},
   "outputs": [],
   "source": [
    "# this dictonary will conver the IMDb genre id's to their associated english word\n",
    "genre_id_to_string = {28:'action',\n",
    "                      16:'animated',\n",
    "                      99:'documentary',\n",
    "                      18:'drama',\n",
    "                      10751:'family',\n",
    "                      14:'fantasy',\n",
    "                      36:'history',\n",
    "                      35:'comedy',\n",
    "                      10752:'war',\n",
    "                      80:'crime',\n",
    "                      10402:'music',\n",
    "                      9648:'mystery',\n",
    "                      10749:'romance',\n",
    "                      878:'sci-fi',\n",
    "                      27:'horror',\n",
    "                      10770:'TV-movie',\n",
    "                      53:'thriller',\n",
    "                      37:'western',\n",
    "                      12:'adventure'}"
   ]
  },
  {
   "cell_type": "code",
   "execution_count": 8,
   "metadata": {},
   "outputs": [],
   "source": [
    "# because genre_ids are stored as a string in between brackets and seperated by commas \n",
    "# this function will clean that to return an actual list of real words\n",
    "# example\n",
    "# input: '[28,16,99]' (type = string)\n",
    "# output: [action, animated, documentary] (type = list)\n",
    "def convert_id_to_name(id_list):\n",
    "    id_list = id_list[1:-1].replace(',','').split()\n",
    "    for id in enumerate(id_list):\n",
    "        id_list[id[0]] = genre_id_to_string[int(id[1])]\n",
    "    return(id_list)\n",
    "\n",
    "# applying convert_id_to_name so that the ids are now readable names\n",
    "money_id_df.genre_ids = money_id_df.genre_ids.apply(lambda x: 'nan' if str(x) == 'nan' else convert_id_to_name(x))"
   ]
  },
  {
   "cell_type": "markdown",
   "metadata": {},
   "source": [
    "Now that the data is in the correct format I used the following for loop iteration along with a dictionary to iterate throuhg the `genre_ids` and create a key value pair of the genre and a list of the `domestic_gross`that each genre was a part of. For example, if _Avengers_ is classfied as action, fantasy, and adventure and grossed \\\\$10,000,000 domestically. Those three genres would be assigned \\\\$10,000,000 to their list. After these lists are created the mean is calculated to show the mean domestic box office of any movie containing that genre."
   ]
  },
  {
   "cell_type": "code",
   "execution_count": 9,
   "metadata": {
    "scrolled": true
   },
   "outputs": [],
   "source": [
    "# dictionary to hold the following key value pairs:\n",
    "# key = genre, value = total money grossed\n",
    "money_for_each_genre = {}\n",
    "for genre_money in money_id_df.iterrows():\n",
    "    ids = list(genre_money[1])[-1]\n",
    "    money = list(genre_money[1])[-2]\n",
    "    if ids != 'nan':\n",
    "        for id in ids:\n",
    "            if id in money_for_each_genre.keys():\n",
    "                money_for_each_genre[id].append(money) \n",
    "            else:\n",
    "                money_for_each_genre[id] = [money]\n",
    "                \n",
    "# going through dictionary to take the mean of all movies in a genre\n",
    "for genre_money in money_for_each_genre.items():\n",
    "    money_list = genre_money[1]\n",
    "    money_for_each_genre[genre_money[0]] = int(np.mean(money_list))"
   ]
  },
  {
   "cell_type": "markdown",
   "metadata": {},
   "source": [
    "The dictionary is then converted back to a dataframe for ease of use with matplotlib. This dataframe was then sorted by domestic box office to have a descending list of domestic box office."
   ]
  },
  {
   "cell_type": "code",
   "execution_count": 10,
   "metadata": {},
   "outputs": [],
   "source": [
    "# converting back to dataframe for easy sorting / extraction for graphing\n",
    "final_dataframe = pd.DataFrame.from_dict(money_for_each_genre,orient='index')\n",
    "final_dataframe.sort_values(by=0,ascending=False,inplace=True)"
   ]
  },
  {
   "cell_type": "markdown",
   "metadata": {},
   "source": [
    "### Data Modeling\n",
    "Describe and justify the process for analyzing or modeling the data.\n",
    "\n",
    "***\n",
    "Questions to consider:\n",
    "* How did you analyze or model the data?\n",
    "* How did you iterate on your initial approach to make it better?\n",
    "* Why are these choices appropriate given the data and the business problem?\n",
    "***"
   ]
  },
  {
   "cell_type": "code",
   "execution_count": 11,
   "metadata": {},
   "outputs": [],
   "source": [
    "# Here you run your code to model the data"
   ]
  },
  {
   "cell_type": "code",
   "execution_count": 12,
   "metadata": {
    "scrolled": true
   },
   "outputs": [
    {
     "data": {
      "text/plain": [
       "Text(0, 0.5, 'Gross Domestic Box Office')"
      ]
     },
     "execution_count": 12,
     "metadata": {},
     "output_type": "execute_result"
    },
    {
     "data": {
      "image/png": "[encoded data removed]",
      "text/plain": [
       "<Figure size 1440x288 with 1 Axes>"
      ]
     },
     "metadata": {
      "needs_background": "light"
     },
     "output_type": "display_data"
    }
   ],
   "source": [
    "x = final_dataframe.index\n",
    "y = final_dataframe.iloc[:,0]\n",
    "x = x[0:10]\n",
    "y = y[0:10]\n",
    "fig = plt.figure(figsize = (20,4))\n",
    "ax = fig.subplots()\n",
    "ax.bar(x,y,color='salmon')\n",
    "ax.set_title('Gross Domestic Box Office vs Genre of Movie')\n",
    "ax.set_xlabel('Genre of Movie')\n",
    "ax.set_ylabel('Gross Domestic Box Office')\n"
   ]
  },
  {
   "cell_type": "markdown",
   "metadata": {},
   "source": [
    "### Evaluation\n",
    "\n",
    "In the visuatlization of this problem we can see that there are some genres that on average bring in much more money at the box office than others. Adventure, animated, sci-fi, fantasy, action, and family make significantly more money as seen by the massive drop-off from family to TV-movie. This will help Microsoft choose what kind of movies to make from the beggining to maximize their chance of making a profit on their movies. \n",
    "\n",
    "***\n",
    "Questions to consider:\n",
    "* How do you interpret the results?\n",
    "* How well does your model fit your data? How much better is this than your baseline model?\n",
    "* How confident are you that your results would generalize beyond the data you have?\n",
    "* How confident are you that this model would benefit the business if put into use?\n",
    "***"
   ]
  },
  {
   "cell_type": "markdown",
   "metadata": {},
   "source": [
    "## Question 1 (b)\n",
    "\n",
    "In order to further reinforce the insight provided in question 1 (a) I recreated the same work on a different dataset containing domestic and worldwide box office. Almost the same exact process was done except for the use of `worldwide_gross` as opposed to just `domestic_gross`."
   ]
  },
  {
   "cell_type": "code",
   "execution_count": 13,
   "metadata": {},
   "outputs": [],
   "source": [
    "# get the gross income from domestic and worldwide\n",
    "tn_money = data['tn.movie_budgets.csv.gz']\n",
    "tn_money.rename(columns={'movie':'title'},inplace=True)\n",
    "\n",
    "# get the genre ids\n",
    "imdb_movies = data['tmdb.movies.csv.gz'].loc[:,['genre_ids','original_title']]\n",
    "imdb_movies.rename(columns={'original_title':'title'},inplace=True)\n",
    "\n",
    "# merge the two cells on title\n",
    "money_for_movies = imdb_movies.merge(tn_money,how='left',on='title') \n",
    "\n",
    "# select wanted data\n",
    "money_for_movies = money_for_movies.loc[:,['title','genre_ids','worldwide_gross']]\n",
    "\n",
    "# drop columns without a domestic gross\n",
    "money_for_movies.dropna(subset=['worldwide_gross'],inplace=True)\n",
    "\n",
    "# clean the money columns due to $ and , being used to represent money (ex ten thousand dollars  = $10,000)\n",
    "def clean_money(money):\n",
    "    money = money.replace('$','')\n",
    "    return float(money.replace(',',''))\n",
    "\n",
    "# cleaning money column\n",
    "money_for_movies.worldwide_gross = money_for_movies.worldwide_gross.apply(lambda x: clean_money(x))\n",
    "\n",
    "# converting genre ids to genres\n",
    "money_for_movies.genre_ids = money_for_movies.genre_ids.apply(lambda x: 'nan' if str(x) == 'nan' else convert_id_to_name(x))\n",
    "\n",
    "# adding money together by genre\n",
    "world_money = {}\n",
    "for item in money_for_movies.iterrows():\n",
    "    ids = list(item[1])[1]\n",
    "    money = list(item[1])[-1]\n",
    "    if ids != 'nan':\n",
    "        for id in ids:\n",
    "            if id in world_money.keys():\n",
    "                world_money[id].append(money)\n",
    "            else:\n",
    "                world_money[id] = [money]\n",
    "        \n",
    "# going through dictionary to take the mean of all movies in a genre\n",
    "for money_genre in world_money.items():\n",
    "    money_list = money_genre[1]\n",
    "    world_money[money_genre[0]] = int(np.mean(money_list))\n",
    "\n",
    "# creating a DataFrame from the dictionary\n",
    "output_dataframe = pd.DataFrame.from_dict(world_money, orient='index')\n",
    "\n",
    "# sorting value based on total box office income\n",
    "output_dataframe.sort_values(by=0,ascending=False,inplace=True)"
   ]
  },
  {
   "cell_type": "code",
   "execution_count": 14,
   "metadata": {},
   "outputs": [],
   "source": [
    "import matplotlib.pyplot as plt\n",
    "%matplotlib inline"
   ]
  },
  {
   "cell_type": "code",
   "execution_count": 15,
   "metadata": {
    "scrolled": false
   },
   "outputs": [
    {
     "data": {
      "text/plain": [
       "Text(0, 0.5, 'Gross Worldwide Box Office')"
      ]
     },
     "execution_count": 15,
     "metadata": {},
     "output_type": "execute_result"
    },
    {
     "data": {
      "image/png": "[encoded data removed]",
      "text/plain": [
       "<Figure size 1440x288 with 1 Axes>"
      ]
     },
     "metadata": {
      "needs_background": "light"
     },
     "output_type": "display_data"
    }
   ],
   "source": [
    "x = output_dataframe.index\n",
    "y = output_dataframe.iloc[:,0]\n",
    "x = x[0:10]\n",
    "y = y[0:10]\n",
    "fig = plt.figure(figsize = (20,4))\n",
    "ax = fig.subplots()\n",
    "ax.bar(x,y,color='skyblue')\n",
    "ax.set_title('Gross Worldwide Box Office vs Genre of Movie')\n",
    "ax.set_xlabel('Genre of Movie')\n",
    "ax.set_ylabel('Gross Worldwide Box Office')\n"
   ]
  },
  {
   "cell_type": "markdown",
   "metadata": {},
   "source": [
    "### Evaluation\n",
    "\n",
    "As we can see almost the same exact 6 genres were vastly above all the others. The biggest difference here is that animated and adventure movies made vastly more money than all the others as the other top 4 drop signifcantly from the first 2."
   ]
  },
  {
   "cell_type": "markdown",
   "metadata": {},
   "source": [
    "## Question 2\n",
    "\n",
    "Who should be hired to give the highest chance of a highly rated movie?\n",
    "\n",
    "### Data Preperation\n",
    "\n",
    "In order to find out **who** to hire I am going to need to get the ratings of the movies that they were a part of. This information is located in the **imdb.title.ratings.csv.gz** data set where I extract the movies (given in tconst) and their respective ratings. This is then converted into a dictionary so that an input of a movie's ID (tconst) will return that movie's rating."
   ]
  },
  {
   "cell_type": "code",
   "execution_count": 16,
   "metadata": {},
   "outputs": [],
   "source": [
    "# extracting needed columns of tconst and average rating\n",
    "movie_rating = data['imdb.title.ratings.csv.gz'][['tconst','averagerating']]\n",
    "\n",
    "# setting the index to the tconst for ease of translation to dictionary\n",
    "movie_rating.set_index('tconst',inplace=True)\n",
    "\n",
    "# creating a dictionary of key value pairs:\n",
    "# key = tconst\n",
    "# value = rating\n",
    "tconst_to_rating = movie_rating.to_dict('index')"
   ]
  },
  {
   "cell_type": "markdown",
   "metadata": {},
   "source": [
    "Now that the dictionary is created I am going to drop all rows where a name does not have any `know_for_titles` or a `primary_profession`. These names can not be considered because there is no way to assign them a rating or score. If they were assigned a score and do not have a primary profession there is no way to know what they did well."
   ]
  },
  {
   "cell_type": "code",
   "execution_count": 17,
   "metadata": {
    "scrolled": true
   },
   "outputs": [],
   "source": [
    "best_people = data['imdb.name.basics.csv.gz'].dropna(subset=['known_for_titles','primary_profession'])"
   ]
  },
  {
   "cell_type": "markdown",
   "metadata": {},
   "source": [
    "The below funciton (`change_to_name`) takes a person's `known_for_titles` (which is a string of tconsts seperated "
   ]
  },
  {
   "cell_type": "code",
   "execution_count": 18,
   "metadata": {},
   "outputs": [],
   "source": [
    "def change_to_name(tconst_string): #x going to be a string 'tt0837562,tt2398241,tt0844471,tt0118553'\n",
    "    # splitting to have individual tconsts\n",
    "    tconst_list = tconst_string.split(',')\n",
    "    rating_list = []\n",
    "    \n",
    "    # some tconsts are not in the dataframe so we skip them\n",
    "    for tconst in tconst_list:\n",
    "        try:\n",
    "            #appending this rating to the list\n",
    "            rating_list.append(tconst_to_rating[tconst]['averagerating'])\n",
    "        except:\n",
    "            pass\n",
    "    \n",
    "    # taking the mean of all ratings\n",
    "    if len(rating_list)>0:\n",
    "        return np.mean(rating_list)\n",
    "    #if there are no ratings we return NaN\n",
    "    else:\n",
    "        return np.nan"
   ]
  },
  {
   "cell_type": "code",
   "execution_count": 19,
   "metadata": {},
   "outputs": [],
   "source": [
    "# this is to block a strange error with assinging values to data frame splices\n",
    "pd.options.mode.chained_assignment = None  # default='warn'"
   ]
  },
  {
   "cell_type": "markdown",
   "metadata": {},
   "source": [
    "This will convert the tconsts into a mean of all ratings of those movies"
   ]
  },
  {
   "cell_type": "code",
   "execution_count": 20,
   "metadata": {
    "scrolled": true
   },
   "outputs": [],
   "source": [
    "# input: 'tt0837562,tt2398241,tt0844471,tt0118553' type(string)\n",
    "# output: 6.0 type(float)\n",
    "best_people['average_rating'] = best_people['known_for_titles'].apply(change_to_name)"
   ]
  },
  {
   "cell_type": "code",
   "execution_count": 21,
   "metadata": {
    "scrolled": true
   },
   "outputs": [],
   "source": [
    "# dropping rows for names who did not have any of their known titles\n",
    "# match to the ratings database\n",
    "best_people.dropna(subset=['average_rating'],inplace=True)"
   ]
  },
  {
   "cell_type": "markdown",
   "metadata": {},
   "source": [
    "The dataframe is then sorted by the ratings that each person recieved. This will allow us to choose those who worked on movies with the highest rating."
   ]
  },
  {
   "cell_type": "code",
   "execution_count": 22,
   "metadata": {
    "scrolled": true
   },
   "outputs": [],
   "source": [
    "best_people = best_people.sort_values('average_rating',ascending=False)"
   ]
  },
  {
   "cell_type": "markdown",
   "metadata": {},
   "source": [
    "Now that this data is condensed into a single dataframe further indexing is needed in order to find the best actor, writer, etc. This can be done for any profession involved in moving making but the most common are done here."
   ]
  },
  {
   "cell_type": "code",
   "execution_count": 23,
   "metadata": {},
   "outputs": [],
   "source": [
    "# best actor\n",
    "best_actor = best_people[(best_people.primary_profession.str.contains('actor'))]\n",
    "best_actress = best_people[(best_people.primary_profession.str.contains('actress'))]\n",
    "\n",
    "# best director\n",
    "best_director = best_people[(best_people.primary_profession.str.contains('director'))]\n",
    "\n",
    "# best writer\n",
    "best_writer = best_people[(best_people.primary_profession.str.contains('writer'))]"
   ]
  },
  {
   "cell_type": "markdown",
   "metadata": {},
   "source": [
    "### Data Modeling\n",
    "Describe and justify the process for analyzing or modeling the data.\n",
    "\n",
    "***\n",
    "Questions to consider:\n",
    "* How did you analyze or model the data?\n",
    "* How did you iterate on your initial approach to make it better?\n",
    "* Why are these choices appropriate given the data and the business problem?\n",
    "***"
   ]
  },
  {
   "cell_type": "code",
   "execution_count": 24,
   "metadata": {},
   "outputs": [
    {
     "name": "stdout",
     "output_type": "stream",
     "text": [
      "TOP 5 ACTORS\n",
      "#1: Lance Vogel\n",
      "#2: Mark Alan Campbell\n",
      "#3: Seth Michael\n",
      "#4: Luke Telfer\n",
      "#5: Benji Riggs\n"
     ]
    }
   ],
   "source": [
    "print('TOP 5 ACTORS')\n",
    "for item in enumerate(list(best_actor[\"primary_name\"].head())):\n",
    "    print('#{}: {}'.format((item[0]+1),item[1]))"
   ]
  },
  {
   "cell_type": "code",
   "execution_count": 25,
   "metadata": {
    "scrolled": true
   },
   "outputs": [
    {
     "name": "stdout",
     "output_type": "stream",
     "text": [
      "TOP 5 ACTRESSES\n",
      "#1: Cristina Duarte\n",
      "#2: Donna Schulte\n",
      "#3: Vickie Doerr\n",
      "#4: Diane Ferranti\n",
      "#5: Aurora Sharon Lewis\n"
     ]
    }
   ],
   "source": [
    "print('TOP 5 ACTRESSES')\n",
    "for item in enumerate(list(best_actress[\"primary_name\"].head())):\n",
    "    print('#{}: {}'.format((item[0]+1),item[1]))"
   ]
  },
  {
   "cell_type": "code",
   "execution_count": 26,
   "metadata": {},
   "outputs": [
    {
     "name": "stdout",
     "output_type": "stream",
     "text": [
      "TOP 5 DIRECTORS\n",
      "#1: Cristina Duarte\n",
      "#2: Michiel Brongers\n",
      "#3: Masahiro Hayakawa\n",
      "#4: Daniel Alexander\n",
      "#5: Vickie Doerr\n"
     ]
    }
   ],
   "source": [
    "print('TOP 5 DIRECTORS')\n",
    "for item in enumerate(list(best_director[\"primary_name\"].head())):\n",
    "    print('#{}: {}'.format((item[0]+1),item[1]))"
   ]
  },
  {
   "cell_type": "code",
   "execution_count": 27,
   "metadata": {
    "scrolled": false
   },
   "outputs": [
    {
     "name": "stdout",
     "output_type": "stream",
     "text": [
      "TOP 5 WRITERS\n",
      "#1: Cristina Duarte\n",
      "#2: Lance Vogel\n",
      "#3: Michiel Brongers\n",
      "#4: Daniel Alexander\n",
      "#5: Don McClendon\n"
     ]
    }
   ],
   "source": [
    "print('TOP 5 WRITERS')\n",
    "for item in enumerate(list(best_writer[\"primary_name\"].head())):\n",
    "    print('#{}: {}'.format((item[0]+1),item[1]))"
   ]
  },
  {
   "cell_type": "markdown",
   "metadata": {},
   "source": [
    "### Evaluation\n",
    "\n",
    "In the lists above we can see those actors/actresses, dirtors, and writers worked on movies that recieved the highest ratings. This does not mean that they will produce highly rated content but that they have produced highly rated content in the past.\n",
    "\n",
    "***\n",
    "Questions to consider:\n",
    "* How do you interpret the results?\n",
    "* How well does your model fit your data? How much better is this than your baseline model?\n",
    "* How confident are you that your results would generalize beyond the data you have?\n",
    "* How confident are you that this model would benefit the business if put into use?\n",
    "***"
   ]
  },
  {
   "cell_type": "markdown",
   "metadata": {},
   "source": [
    "## Conclusions\n",
    "Provide your conclusions about the work you've done, including any limitations or next steps.\n",
    "\n",
    "***\n",
    "Questions to consider:\n",
    "* What would you recommend the business do as a result of this work?\n",
    "* What are some reasons why your analysis might not fully solve the business problem?\n",
    "* What else could you do in the future to improve this project?\n",
    "***"
   ]
  }
 ],
 "metadata": {
  "kernelspec": {
   "display_name": "learn-env",
   "language": "python",
   "name": "learn-env"
  },
  "language_info": {
   "codemirror_mode": {
    "name": "ipython",
    "version": 3
   },
   "file_extension": ".py",
   "mimetype": "text/x-python",
   "name": "python",
   "nbconvert_exporter": "python",
   "pygments_lexer": "ipython3",
   "version": "3.6.9"
  }
 },
 "nbformat": 4,
 "nbformat_minor": 4
}
