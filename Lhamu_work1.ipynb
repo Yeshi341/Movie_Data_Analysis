{
 "cells": [
  {
   "cell_type": "markdown",
   "metadata": {},
   "source": [
    "Import Data"
   ]
  },
  {
   "cell_type": "code",
   "execution_count": 128,
   "metadata": {},
   "outputs": [],
   "source": [
    "# Importing os for getting path names for data\n",
    "import os\n",
    "# Importing pandas \n",
    "import pandas as pd"
   ]
  },
  {
   "cell_type": "code",
   "execution_count": 129,
   "metadata": {},
   "outputs": [],
   "source": [
    "data_path = os.path.join('data','zippedData')\n",
    "files = os.listdir(data_path)"
   ]
  },
  {
   "cell_type": "code",
   "execution_count": 130,
   "metadata": {},
   "outputs": [],
   "source": [
    "import_paths = [os.path.join(data_path,file) for file in files]"
   ]
  },
  {
   "cell_type": "code",
   "execution_count": 131,
   "metadata": {
    "scrolled": false
   },
   "outputs": [
    {
     "data": {
      "text/plain": [
       "['data/zippedData/imdb.title.crew.csv.gz',\n",
       " 'data/zippedData/tmdb.movies.csv.gz',\n",
       " 'data/zippedData/imdb.title.akas.csv.gz',\n",
       " 'data/zippedData/imdb.title.ratings.csv.gz',\n",
       " 'data/zippedData/imdb.name.basics.csv.gz',\n",
       " 'data/zippedData/rt.reviews.tsv.gz',\n",
       " 'data/zippedData/imdb.title.basics.csv.gz',\n",
       " 'data/zippedData/rt.movie_info.tsv.gz',\n",
       " 'data/zippedData/tn.movie_budgets.csv.gz',\n",
       " 'data/zippedData/bom.movie_gross.csv.gz',\n",
       " 'data/zippedData/imdb.title.principals.csv.gz']"
      ]
     },
     "execution_count": 131,
     "metadata": {},
     "output_type": "execute_result"
    }
   ],
   "source": [
    "import_paths"
   ]
  },
  {
   "cell_type": "code",
   "execution_count": 132,
   "metadata": {},
   "outputs": [],
   "source": [
    "data = {}\n",
    "for path in import_paths:\n",
    "    try:\n",
    "        df = pd.read_csv(path) #this will fail on the .tsv\n",
    "    except:\n",
    "        df = pd.read_csv(path,delimiter='\\t', encoding='unicode_escape')\n",
    "    data[path.split('/')[-1]] = df"
   ]
  },
  {
   "cell_type": "code",
   "execution_count": 133,
   "metadata": {},
   "outputs": [
    {
     "data": {
      "text/plain": [
       "dtype('O')"
      ]
     },
     "execution_count": 133,
     "metadata": {},
     "output_type": "execute_result"
    }
   ],
   "source": [
    "data['imdb.title.basics.csv.gz']['genres'].dtype"
   ]
  },
  {
   "cell_type": "code",
   "execution_count": 6,
   "metadata": {},
   "outputs": [
    {
     "data": {
      "text/plain": [
       "11"
      ]
     },
     "execution_count": 6,
     "metadata": {},
     "output_type": "execute_result"
    }
   ],
   "source": [
    "len(data)"
   ]
  },
  {
   "cell_type": "code",
   "execution_count": 7,
   "metadata": {
    "scrolled": true
   },
   "outputs": [
    {
     "data": {
      "text/html": [
       "<div>\n",
       "<style scoped>\n",
       "    .dataframe tbody tr th:only-of-type {\n",
       "        vertical-align: middle;\n",
       "    }\n",
       "\n",
       "    .dataframe tbody tr th {\n",
       "        vertical-align: top;\n",
       "    }\n",
       "\n",
       "    .dataframe thead th {\n",
       "        text-align: right;\n",
       "    }\n",
       "</style>\n",
       "<table border=\"1\" class=\"dataframe\">\n",
       "  <thead>\n",
       "    <tr style=\"text-align: right;\">\n",
       "      <th></th>\n",
       "      <th>title</th>\n",
       "      <th>studio</th>\n",
       "      <th>domestic_gross</th>\n",
       "      <th>foreign_gross</th>\n",
       "      <th>year</th>\n",
       "    </tr>\n",
       "  </thead>\n",
       "  <tbody>\n",
       "    <tr>\n",
       "      <th>0</th>\n",
       "      <td>Toy Story 3</td>\n",
       "      <td>BV</td>\n",
       "      <td>415000000.0</td>\n",
       "      <td>652000000</td>\n",
       "      <td>2010</td>\n",
       "    </tr>\n",
       "    <tr>\n",
       "      <th>1</th>\n",
       "      <td>Alice in Wonderland (2010)</td>\n",
       "      <td>BV</td>\n",
       "      <td>334200000.0</td>\n",
       "      <td>691300000</td>\n",
       "      <td>2010</td>\n",
       "    </tr>\n",
       "    <tr>\n",
       "      <th>2</th>\n",
       "      <td>Harry Potter and the Deathly Hallows Part 1</td>\n",
       "      <td>WB</td>\n",
       "      <td>296000000.0</td>\n",
       "      <td>664300000</td>\n",
       "      <td>2010</td>\n",
       "    </tr>\n",
       "    <tr>\n",
       "      <th>3</th>\n",
       "      <td>Inception</td>\n",
       "      <td>WB</td>\n",
       "      <td>292600000.0</td>\n",
       "      <td>535700000</td>\n",
       "      <td>2010</td>\n",
       "    </tr>\n",
       "    <tr>\n",
       "      <th>4</th>\n",
       "      <td>Shrek Forever After</td>\n",
       "      <td>P/DW</td>\n",
       "      <td>238700000.0</td>\n",
       "      <td>513900000</td>\n",
       "      <td>2010</td>\n",
       "    </tr>\n",
       "  </tbody>\n",
       "</table>\n",
       "</div>"
      ],
      "text/plain": [
       "                                         title studio  domestic_gross  \\\n",
       "0                                  Toy Story 3     BV     415000000.0   \n",
       "1                   Alice in Wonderland (2010)     BV     334200000.0   \n",
       "2  Harry Potter and the Deathly Hallows Part 1     WB     296000000.0   \n",
       "3                                    Inception     WB     292600000.0   \n",
       "4                          Shrek Forever After   P/DW     238700000.0   \n",
       "\n",
       "  foreign_gross  year  \n",
       "0     652000000  2010  \n",
       "1     691300000  2010  \n",
       "2     664300000  2010  \n",
       "3     535700000  2010  \n",
       "4     513900000  2010  "
      ]
     },
     "execution_count": 7,
     "metadata": {},
     "output_type": "execute_result"
    }
   ],
   "source": [
    "data['bom.movie_gross.csv.gz'].head()"
   ]
  },
  {
   "cell_type": "code",
   "execution_count": 8,
   "metadata": {},
   "outputs": [
    {
     "data": {
      "text/html": [
       "<div>\n",
       "<style scoped>\n",
       "    .dataframe tbody tr th:only-of-type {\n",
       "        vertical-align: middle;\n",
       "    }\n",
       "\n",
       "    .dataframe tbody tr th {\n",
       "        vertical-align: top;\n",
       "    }\n",
       "\n",
       "    .dataframe thead th {\n",
       "        text-align: right;\n",
       "    }\n",
       "</style>\n",
       "<table border=\"1\" class=\"dataframe\">\n",
       "  <thead>\n",
       "    <tr style=\"text-align: right;\">\n",
       "      <th></th>\n",
       "      <th>Unnamed: 0</th>\n",
       "      <th>genre_ids</th>\n",
       "      <th>id</th>\n",
       "      <th>original_language</th>\n",
       "      <th>original_title</th>\n",
       "      <th>popularity</th>\n",
       "      <th>release_date</th>\n",
       "      <th>title</th>\n",
       "      <th>vote_average</th>\n",
       "      <th>vote_count</th>\n",
       "    </tr>\n",
       "  </thead>\n",
       "  <tbody>\n",
       "    <tr>\n",
       "      <th>0</th>\n",
       "      <td>0</td>\n",
       "      <td>[12, 14, 10751]</td>\n",
       "      <td>12444</td>\n",
       "      <td>en</td>\n",
       "      <td>Harry Potter and the Deathly Hallows: Part 1</td>\n",
       "      <td>33.533</td>\n",
       "      <td>2010-11-19</td>\n",
       "      <td>Harry Potter and the Deathly Hallows: Part 1</td>\n",
       "      <td>7.7</td>\n",
       "      <td>10788</td>\n",
       "    </tr>\n",
       "    <tr>\n",
       "      <th>1</th>\n",
       "      <td>1</td>\n",
       "      <td>[14, 12, 16, 10751]</td>\n",
       "      <td>10191</td>\n",
       "      <td>en</td>\n",
       "      <td>How to Train Your Dragon</td>\n",
       "      <td>28.734</td>\n",
       "      <td>2010-03-26</td>\n",
       "      <td>How to Train Your Dragon</td>\n",
       "      <td>7.7</td>\n",
       "      <td>7610</td>\n",
       "    </tr>\n",
       "    <tr>\n",
       "      <th>2</th>\n",
       "      <td>2</td>\n",
       "      <td>[12, 28, 878]</td>\n",
       "      <td>10138</td>\n",
       "      <td>en</td>\n",
       "      <td>Iron Man 2</td>\n",
       "      <td>28.515</td>\n",
       "      <td>2010-05-07</td>\n",
       "      <td>Iron Man 2</td>\n",
       "      <td>6.8</td>\n",
       "      <td>12368</td>\n",
       "    </tr>\n",
       "    <tr>\n",
       "      <th>3</th>\n",
       "      <td>3</td>\n",
       "      <td>[16, 35, 10751]</td>\n",
       "      <td>862</td>\n",
       "      <td>en</td>\n",
       "      <td>Toy Story</td>\n",
       "      <td>28.005</td>\n",
       "      <td>1995-11-22</td>\n",
       "      <td>Toy Story</td>\n",
       "      <td>7.9</td>\n",
       "      <td>10174</td>\n",
       "    </tr>\n",
       "    <tr>\n",
       "      <th>4</th>\n",
       "      <td>4</td>\n",
       "      <td>[28, 878, 12]</td>\n",
       "      <td>27205</td>\n",
       "      <td>en</td>\n",
       "      <td>Inception</td>\n",
       "      <td>27.920</td>\n",
       "      <td>2010-07-16</td>\n",
       "      <td>Inception</td>\n",
       "      <td>8.3</td>\n",
       "      <td>22186</td>\n",
       "    </tr>\n",
       "  </tbody>\n",
       "</table>\n",
       "</div>"
      ],
      "text/plain": [
       "   Unnamed: 0            genre_ids     id original_language  \\\n",
       "0           0      [12, 14, 10751]  12444                en   \n",
       "1           1  [14, 12, 16, 10751]  10191                en   \n",
       "2           2        [12, 28, 878]  10138                en   \n",
       "3           3      [16, 35, 10751]    862                en   \n",
       "4           4        [28, 878, 12]  27205                en   \n",
       "\n",
       "                                 original_title  popularity release_date  \\\n",
       "0  Harry Potter and the Deathly Hallows: Part 1      33.533   2010-11-19   \n",
       "1                      How to Train Your Dragon      28.734   2010-03-26   \n",
       "2                                    Iron Man 2      28.515   2010-05-07   \n",
       "3                                     Toy Story      28.005   1995-11-22   \n",
       "4                                     Inception      27.920   2010-07-16   \n",
       "\n",
       "                                          title  vote_average  vote_count  \n",
       "0  Harry Potter and the Deathly Hallows: Part 1           7.7       10788  \n",
       "1                      How to Train Your Dragon           7.7        7610  \n",
       "2                                    Iron Man 2           6.8       12368  \n",
       "3                                     Toy Story           7.9       10174  \n",
       "4                                     Inception           8.3       22186  "
      ]
     },
     "execution_count": 8,
     "metadata": {},
     "output_type": "execute_result"
    }
   ],
   "source": [
    "data['tmdb.movies.csv.gz'].head()"
   ]
  },
  {
   "cell_type": "code",
   "execution_count": 9,
   "metadata": {},
   "outputs": [],
   "source": [
    "file_rename_list = ['writer_director', #imdb.title.crew.csv.gz\n",
    "                   'movie_info',#tmdb.movies.csv.gz\n",
    "                   'global_title',#imdb.title.akas.csv.gz\n",
    "                   'rating_with_votes',#imdb.title.ratings.csv.gz'\n",
    "                   'worked_in_film',#imdb.name.basics.csv.gz\n",
    "                   'rotten_reviews',#rt.reviews.tsv.gz\n",
    "                   'movie_basic_info',#imdb.title.basics.csv.gz\n",
    "                   'rotten_movie_info',#rt.movie_info.tsv.gz\n",
    "                   'budget_tn',#tn.movie_budgets.csv.gz\n",
    "                   'boxoffice_bom',#bom.movie_gross.csv.gz\n",
    "                   'character_title',#imdb.title.principals.csv.gz\n",
    "                   ]"
   ]
  },
  {
   "cell_type": "code",
   "execution_count": 10,
   "metadata": {},
   "outputs": [],
   "source": [
    "#getting movie title and genre from the df\n",
    "df_test_info = data['tmdb.movies.csv.gz'].loc[:,['genre_ids','original_title']]"
   ]
  },
  {
   "cell_type": "code",
   "execution_count": 11,
   "metadata": {},
   "outputs": [],
   "source": [
    "#changing column title to be the same with other df\n",
    "df_test_info.rename(columns={'original_title':'title'},inplace=True) #df.rename(columns={\"A\": \"a\", \"B\": \"c\"})"
   ]
  },
  {
   "cell_type": "code",
   "execution_count": 12,
   "metadata": {},
   "outputs": [],
   "source": [
    "#getting the title and gross into sep df\n",
    "df_test_box = data['bom.movie_gross.csv.gz'].loc[:,['title','domestic_gross','foreign_gross']]"
   ]
  },
  {
   "cell_type": "code",
   "execution_count": 13,
   "metadata": {},
   "outputs": [],
   "source": [
    "#merging the movie info with the gross income info\n",
    "df_test_box_info = df_test_box.merge(df_test_info,how='left',on='title') "
   ]
  },
  {
   "cell_type": "code",
   "execution_count": 14,
   "metadata": {},
   "outputs": [],
   "source": [
    "#getting rid of commas in the foreign gross column\n",
    "df_test_box_info.foreign_gross = df_test_box_info.foreign_gross.str.replace(',','') "
   ]
  },
  {
   "cell_type": "code",
   "execution_count": 15,
   "metadata": {},
   "outputs": [
    {
     "data": {
      "text/html": [
       "<div>\n",
       "<style scoped>\n",
       "    .dataframe tbody tr th:only-of-type {\n",
       "        vertical-align: middle;\n",
       "    }\n",
       "\n",
       "    .dataframe tbody tr th {\n",
       "        vertical-align: top;\n",
       "    }\n",
       "\n",
       "    .dataframe thead th {\n",
       "        text-align: right;\n",
       "    }\n",
       "</style>\n",
       "<table border=\"1\" class=\"dataframe\">\n",
       "  <thead>\n",
       "    <tr style=\"text-align: right;\">\n",
       "      <th></th>\n",
       "      <th>title</th>\n",
       "      <th>domestic_gross</th>\n",
       "      <th>foreign_gross</th>\n",
       "    </tr>\n",
       "  </thead>\n",
       "  <tbody>\n",
       "    <tr>\n",
       "      <th>727</th>\n",
       "      <td>Marvel's The Avengers</td>\n",
       "      <td>623400000.0</td>\n",
       "      <td>895500000</td>\n",
       "    </tr>\n",
       "  </tbody>\n",
       "</table>\n",
       "</div>"
      ],
      "text/plain": [
       "                     title  domestic_gross foreign_gross\n",
       "727  Marvel's The Avengers     623400000.0     895500000"
      ]
     },
     "execution_count": 15,
     "metadata": {},
     "output_type": "execute_result"
    }
   ],
   "source": [
    "df_test_box[(df_test_box.title == \"Marvel's The Avengers\")]"
   ]
  },
  {
   "cell_type": "code",
   "execution_count": 16,
   "metadata": {},
   "outputs": [],
   "source": [
    "#changing foreign gross from string to float\n",
    "df_test_box_info.foreign_gross = df_test_box_info.foreign_gross.astype(float)"
   ]
  },
  {
   "cell_type": "code",
   "execution_count": 17,
   "metadata": {},
   "outputs": [],
   "source": [
    "# making new column of total gross\n",
    "#dom_gross = df_test_box_info['domestic_gross']\n",
    "df_test_box_info['total_gross'] = df_test_box_info['domestic_gross'] + df_test_box_info['foreign_gross']"
   ]
  },
  {
   "cell_type": "code",
   "execution_count": 18,
   "metadata": {},
   "outputs": [
    {
     "data": {
      "text/html": [
       "<div>\n",
       "<style scoped>\n",
       "    .dataframe tbody tr th:only-of-type {\n",
       "        vertical-align: middle;\n",
       "    }\n",
       "\n",
       "    .dataframe tbody tr th {\n",
       "        vertical-align: top;\n",
       "    }\n",
       "\n",
       "    .dataframe thead th {\n",
       "        text-align: right;\n",
       "    }\n",
       "</style>\n",
       "<table border=\"1\" class=\"dataframe\">\n",
       "  <thead>\n",
       "    <tr style=\"text-align: right;\">\n",
       "      <th></th>\n",
       "      <th>title</th>\n",
       "      <th>domestic_gross</th>\n",
       "      <th>foreign_gross</th>\n",
       "    </tr>\n",
       "  </thead>\n",
       "  <tbody>\n",
       "    <tr>\n",
       "      <th>750</th>\n",
       "      <td>Journey 2: The Mysterious Island</td>\n",
       "      <td>103900000.0</td>\n",
       "      <td>231400000</td>\n",
       "    </tr>\n",
       "    <tr>\n",
       "      <th>751</th>\n",
       "      <td>The Expendables 2</td>\n",
       "      <td>85000000.0</td>\n",
       "      <td>229900000</td>\n",
       "    </tr>\n",
       "  </tbody>\n",
       "</table>\n",
       "</div>"
      ],
      "text/plain": [
       "                                title  domestic_gross foreign_gross\n",
       "750  Journey 2: The Mysterious Island     103900000.0     231400000\n",
       "751                 The Expendables 2      85000000.0     229900000"
      ]
     },
     "execution_count": 18,
     "metadata": {},
     "output_type": "execute_result"
    }
   ],
   "source": [
    "df_test_box.iloc[750:752]"
   ]
  },
  {
   "cell_type": "code",
   "execution_count": 19,
   "metadata": {
    "scrolled": false
   },
   "outputs": [],
   "source": [
    "df_test_box_info = df_test_box_info.sort_values(by='total_gross',ascending=False)"
   ]
  },
  {
   "cell_type": "code",
   "execution_count": 20,
   "metadata": {
    "scrolled": true
   },
   "outputs": [],
   "source": [
    "df_test_box_info.drop_duplicates(subset='title',inplace = True)"
   ]
  },
  {
   "cell_type": "code",
   "execution_count": 30,
   "metadata": {},
   "outputs": [],
   "source": [
    "genre_id_to_string = {28:'action',\n",
    "                      16:'animated',\n",
    "                      99:'documentary',\n",
    "                      18:'drama',\n",
    "                      10751:'family',\n",
    "                      14:'fantasy',\n",
    "                      36:'history',\n",
    "                      35:'comedy',\n",
    "                      10752:'war',\n",
    "                      80:'crime',\n",
    "                      10402:'music',\n",
    "                      9648:'mystery',\n",
    "                      10749:'romance',\n",
    "                      878:'sci-fi',\n",
    "                      27:'horror',\n",
    "                      10770:'TV-movie',\n",
    "                      53:'thriller',\n",
    "                      37:'western',\n",
    "                      12:'adventure'}"
   ]
  },
  {
   "cell_type": "code",
   "execution_count": 22,
   "metadata": {
    "scrolled": true
   },
   "outputs": [
    {
     "name": "stdout",
     "output_type": "stream",
     "text": [
      "<class 'pandas.core.frame.DataFrame'>\n",
      "Int64Index: 3386 entries, 751 to 3722\n",
      "Data columns (total 5 columns):\n",
      "title             3386 non-null object\n",
      "domestic_gross    3358 non-null float64\n",
      "foreign_gross     2037 non-null float64\n",
      "genre_ids         1944 non-null object\n",
      "total_gross       2009 non-null float64\n",
      "dtypes: float64(3), object(2)\n",
      "memory usage: 158.7+ KB\n"
     ]
    }
   ],
   "source": [
    "df_test_box_info.info()"
   ]
  },
  {
   "cell_type": "code",
   "execution_count": 23,
   "metadata": {},
   "outputs": [],
   "source": [
    "df_test_box_info.dropna(subset=['genre_ids'],inplace=True)"
   ]
  },
  {
   "cell_type": "code",
   "execution_count": 31,
   "metadata": {},
   "outputs": [],
   "source": [
    "def convert_id_to_name(id_list):\n",
    "    id_list = id_list[1:-1].replace(',','').split()\n",
    "    for id in enumerate(id_list):\n",
    "        id_list[id[0]] = genre_id_to_string[int(id[1])]\n",
    "    return(id_list)\n"
   ]
  },
  {
   "cell_type": "code",
   "execution_count": 25,
   "metadata": {},
   "outputs": [],
   "source": [
    "df_test_box_info.genre_ids = df_test_box_info.genre_ids.apply(lambda x: 'nan' if str(x) == 'nan' else convert_id_to_name(x))"
   ]
  },
  {
   "cell_type": "code",
   "execution_count": 26,
   "metadata": {},
   "outputs": [],
   "source": [
    "df_test_box_info.dropna(subset=['total_gross'],inplace=True)"
   ]
  },
  {
   "cell_type": "code",
   "execution_count": 27,
   "metadata": {},
   "outputs": [
    {
     "data": {
      "text/html": [
       "<div>\n",
       "<style scoped>\n",
       "    .dataframe tbody tr th:only-of-type {\n",
       "        vertical-align: middle;\n",
       "    }\n",
       "\n",
       "    .dataframe tbody tr th {\n",
       "        vertical-align: top;\n",
       "    }\n",
       "\n",
       "    .dataframe thead th {\n",
       "        text-align: right;\n",
       "    }\n",
       "</style>\n",
       "<table border=\"1\" class=\"dataframe\">\n",
       "  <thead>\n",
       "    <tr style=\"text-align: right;\">\n",
       "      <th></th>\n",
       "      <th>title</th>\n",
       "      <th>domestic_gross</th>\n",
       "      <th>foreign_gross</th>\n",
       "      <th>genre_ids</th>\n",
       "      <th>total_gross</th>\n",
       "    </tr>\n",
       "  </thead>\n",
       "  <tbody>\n",
       "    <tr>\n",
       "      <th>1957</th>\n",
       "      <td>Avengers: Age of Ultron</td>\n",
       "      <td>459000000.0</td>\n",
       "      <td>946400000.0</td>\n",
       "      <td>[action, adventure, sci-fi]</td>\n",
       "      <td>1.405400e+09</td>\n",
       "    </tr>\n",
       "    <tr>\n",
       "      <th>3393</th>\n",
       "      <td>Black Panther</td>\n",
       "      <td>700100000.0</td>\n",
       "      <td>646900000.0</td>\n",
       "      <td>[action, adventure, fantasy, sci-fi]</td>\n",
       "      <td>1.347000e+09</td>\n",
       "    </tr>\n",
       "    <tr>\n",
       "      <th>2999</th>\n",
       "      <td>Star Wars: The Last Jedi</td>\n",
       "      <td>620200000.0</td>\n",
       "      <td>712400000.0</td>\n",
       "      <td>[fantasy, adventure, sci-fi, action]</td>\n",
       "      <td>1.332600e+09</td>\n",
       "    </tr>\n",
       "    <tr>\n",
       "      <th>3394</th>\n",
       "      <td>Jurassic World: Fallen Kingdom</td>\n",
       "      <td>417700000.0</td>\n",
       "      <td>891800000.0</td>\n",
       "      <td>[action, adventure, sci-fi]</td>\n",
       "      <td>1.309500e+09</td>\n",
       "    </tr>\n",
       "    <tr>\n",
       "      <th>1171</th>\n",
       "      <td>Frozen</td>\n",
       "      <td>400700000.0</td>\n",
       "      <td>875700000.0</td>\n",
       "      <td>[thriller]</td>\n",
       "      <td>1.276400e+09</td>\n",
       "    </tr>\n",
       "  </tbody>\n",
       "</table>\n",
       "</div>"
      ],
      "text/plain": [
       "                               title  domestic_gross  foreign_gross  \\\n",
       "1957         Avengers: Age of Ultron     459000000.0    946400000.0   \n",
       "3393                   Black Panther     700100000.0    646900000.0   \n",
       "2999        Star Wars: The Last Jedi     620200000.0    712400000.0   \n",
       "3394  Jurassic World: Fallen Kingdom     417700000.0    891800000.0   \n",
       "1171                          Frozen     400700000.0    875700000.0   \n",
       "\n",
       "                                 genre_ids   total_gross  \n",
       "1957           [action, adventure, sci-fi]  1.405400e+09  \n",
       "3393  [action, adventure, fantasy, sci-fi]  1.347000e+09  \n",
       "2999  [fantasy, adventure, sci-fi, action]  1.332600e+09  \n",
       "3394           [action, adventure, sci-fi]  1.309500e+09  \n",
       "1171                            [thriller]  1.276400e+09  "
      ]
     },
     "execution_count": 27,
     "metadata": {},
     "output_type": "execute_result"
    }
   ],
   "source": [
    "df_test_box_info.head()"
   ]
  },
  {
   "cell_type": "code",
   "execution_count": 28,
   "metadata": {},
   "outputs": [],
   "source": [
    "counter_dict = {}\n",
    "for item in df_test_box_info.iterrows():\n",
    "    ids = list(item[1])[-2]\n",
    "    money = list(item[1])[-1]\n",
    "    if ids != 'nan':\n",
    "        for id in ids:\n",
    "            if id in counter_dict.keys():\n",
    "                counter_dict[id] += money\n",
    "            else:\n",
    "                counter_dict[id] = money"
   ]
  },
  {
   "cell_type": "code",
   "execution_count": 29,
   "metadata": {},
   "outputs": [
    {
     "data": {
      "text/plain": [
       "{'action': 94169450787.5,\n",
       " 'adventure': 95679383915.5,\n",
       " 'sci-fi': 49346115550.0,\n",
       " 'fantasy': 44295388300.1,\n",
       " 'thriller': 38978372487.4,\n",
       " 'animated': 36049389497.0,\n",
       " 'family': 43835199297.0,\n",
       " 'comedy': 68135406092.0,\n",
       " 'crime': 17430091672.0,\n",
       " 'drama': 49062271592.0,\n",
       " 'music': 3545061700.0,\n",
       " 'war': 4417459600.0,\n",
       " 'romance': 15252099097.0,\n",
       " 'horror': 11636906000.0,\n",
       " 'mystery': 9312085199.0,\n",
       " 'western': 2330533100.0,\n",
       " 'history': 4461201000.0,\n",
       " 'documentary': 742670399.0,\n",
       " 'TV-movie': 19100000.0}"
      ]
     },
     "execution_count": 29,
     "metadata": {},
     "output_type": "execute_result"
    }
   ],
   "source": [
    "counter_dict"
   ]
  },
  {
   "cell_type": "code",
   "execution_count": 30,
   "metadata": {},
   "outputs": [],
   "source": [
    "import matplotlib.pyplot as plt\n",
    "%matplotlib inline"
   ]
  },
  {
   "cell_type": "code",
   "execution_count": 31,
   "metadata": {},
   "outputs": [
    {
     "data": {
      "text/plain": [
       "<BarContainer object of 19 artists>"
      ]
     },
     "execution_count": 31,
     "metadata": {},
     "output_type": "execute_result"
    },
    {
     "data": {
      "image/png": "[encoded data removed]",
      "text/plain": [
       "<Figure size 1440x288 with 1 Axes>"
      ]
     },
     "metadata": {
      "needs_background": "light"
     },
     "output_type": "display_data"
    }
   ],
   "source": [
    "x = []\n",
    "y = []\n",
    "for item in sorted(counter_dict, key=counter_dict.get, reverse=True):\n",
    "    x.append(item)\n",
    "    y.append(counter_dict[item])\n",
    "fig = plt.figure(figsize = (20,4))\n",
    "ax = fig.subplots()\n",
    "ax.bar(x,y)"
   ]
  },
  {
   "cell_type": "code",
   "execution_count": 32,
   "metadata": {},
   "outputs": [],
   "source": [
    "# for key, new_key in zip(data.keys(), file_rename_list):\n",
    "#     data[new_key] = data.pop(key)"
   ]
  },
  {
   "cell_type": "code",
   "execution_count": 33,
   "metadata": {},
   "outputs": [],
   "source": [
    "# data.keys()"
   ]
  },
  {
   "cell_type": "markdown",
   "metadata": {},
   "source": [
    "Changing the list of genre ids in the tmdb movies dataset to match the genre names using the convert_id_to_name function "
   ]
  },
  {
   "cell_type": "code",
   "execution_count": 32,
   "metadata": {},
   "outputs": [],
   "source": [
    "data['tmdb.movies.csv.gz']['genre_ids'] = data['tmdb.movies.csv.gz']['genre_ids'].apply(lambda x: 'nan' if str(x) == 'nan' else convert_id_to_name(x))"
   ]
  },
  {
   "cell_type": "markdown",
   "metadata": {},
   "source": [
    "Merging the Imbd title basics dataset to the IMDB title ratings dataset on an outer join on the title id variable tconst. I did this, to get the movie titles for the tconst variable. If I am going to merge with the tmdb dataset, I can only do that on the movie titles and not on the ids since, the two source use different movie ids."
   ]
  },
  {
   "cell_type": "code",
   "execution_count": 33,
   "metadata": {},
   "outputs": [],
   "source": [
    "imdb_movie = data['imdb.title.basics.csv.gz'].merge(data['imdb.title.ratings.csv.gz'], how = 'outer', on = 'tconst')"
   ]
  },
  {
   "cell_type": "code",
   "execution_count": 34,
   "metadata": {},
   "outputs": [
    {
     "data": {
      "text/html": [
       "<div>\n",
       "<style scoped>\n",
       "    .dataframe tbody tr th:only-of-type {\n",
       "        vertical-align: middle;\n",
       "    }\n",
       "\n",
       "    .dataframe tbody tr th {\n",
       "        vertical-align: top;\n",
       "    }\n",
       "\n",
       "    .dataframe thead th {\n",
       "        text-align: right;\n",
       "    }\n",
       "</style>\n",
       "<table border=\"1\" class=\"dataframe\">\n",
       "  <thead>\n",
       "    <tr style=\"text-align: right;\">\n",
       "      <th></th>\n",
       "      <th>tconst</th>\n",
       "      <th>primary_title</th>\n",
       "      <th>original_title</th>\n",
       "      <th>start_year</th>\n",
       "      <th>runtime_minutes</th>\n",
       "      <th>genres</th>\n",
       "      <th>averagerating</th>\n",
       "      <th>numvotes</th>\n",
       "    </tr>\n",
       "  </thead>\n",
       "  <tbody>\n",
       "    <tr>\n",
       "      <th>0</th>\n",
       "      <td>tt0063540</td>\n",
       "      <td>Sunghursh</td>\n",
       "      <td>Sunghursh</td>\n",
       "      <td>2013</td>\n",
       "      <td>175.0</td>\n",
       "      <td>Action,Crime,Drama</td>\n",
       "      <td>7.0</td>\n",
       "      <td>77.0</td>\n",
       "    </tr>\n",
       "    <tr>\n",
       "      <th>1</th>\n",
       "      <td>tt0066787</td>\n",
       "      <td>One Day Before the Rainy Season</td>\n",
       "      <td>Ashad Ka Ek Din</td>\n",
       "      <td>2019</td>\n",
       "      <td>114.0</td>\n",
       "      <td>Biography,Drama</td>\n",
       "      <td>7.2</td>\n",
       "      <td>43.0</td>\n",
       "    </tr>\n",
       "    <tr>\n",
       "      <th>2</th>\n",
       "      <td>tt0069049</td>\n",
       "      <td>The Other Side of the Wind</td>\n",
       "      <td>The Other Side of the Wind</td>\n",
       "      <td>2018</td>\n",
       "      <td>122.0</td>\n",
       "      <td>Drama</td>\n",
       "      <td>6.9</td>\n",
       "      <td>4517.0</td>\n",
       "    </tr>\n",
       "    <tr>\n",
       "      <th>3</th>\n",
       "      <td>tt0069204</td>\n",
       "      <td>Sabse Bada Sukh</td>\n",
       "      <td>Sabse Bada Sukh</td>\n",
       "      <td>2018</td>\n",
       "      <td>NaN</td>\n",
       "      <td>Comedy,Drama</td>\n",
       "      <td>6.1</td>\n",
       "      <td>13.0</td>\n",
       "    </tr>\n",
       "    <tr>\n",
       "      <th>4</th>\n",
       "      <td>tt0100275</td>\n",
       "      <td>The Wandering Soap Opera</td>\n",
       "      <td>La Telenovela Errante</td>\n",
       "      <td>2017</td>\n",
       "      <td>80.0</td>\n",
       "      <td>Comedy,Drama,Fantasy</td>\n",
       "      <td>6.5</td>\n",
       "      <td>119.0</td>\n",
       "    </tr>\n",
       "  </tbody>\n",
       "</table>\n",
       "</div>"
      ],
      "text/plain": [
       "      tconst                    primary_title              original_title  \\\n",
       "0  tt0063540                        Sunghursh                   Sunghursh   \n",
       "1  tt0066787  One Day Before the Rainy Season             Ashad Ka Ek Din   \n",
       "2  tt0069049       The Other Side of the Wind  The Other Side of the Wind   \n",
       "3  tt0069204                  Sabse Bada Sukh             Sabse Bada Sukh   \n",
       "4  tt0100275         The Wandering Soap Opera       La Telenovela Errante   \n",
       "\n",
       "   start_year  runtime_minutes                genres  averagerating  numvotes  \n",
       "0        2013            175.0    Action,Crime,Drama            7.0      77.0  \n",
       "1        2019            114.0       Biography,Drama            7.2      43.0  \n",
       "2        2018            122.0                 Drama            6.9    4517.0  \n",
       "3        2018              NaN          Comedy,Drama            6.1      13.0  \n",
       "4        2017             80.0  Comedy,Drama,Fantasy            6.5     119.0  "
      ]
     },
     "execution_count": 34,
     "metadata": {},
     "output_type": "execute_result"
    }
   ],
   "source": [
    "imdb_movie.head()"
   ]
  },
  {
   "cell_type": "code",
   "execution_count": 35,
   "metadata": {},
   "outputs": [
    {
     "data": {
      "text/html": [
       "<div>\n",
       "<style scoped>\n",
       "    .dataframe tbody tr th:only-of-type {\n",
       "        vertical-align: middle;\n",
       "    }\n",
       "\n",
       "    .dataframe tbody tr th {\n",
       "        vertical-align: top;\n",
       "    }\n",
       "\n",
       "    .dataframe thead th {\n",
       "        text-align: right;\n",
       "    }\n",
       "</style>\n",
       "<table border=\"1\" class=\"dataframe\">\n",
       "  <thead>\n",
       "    <tr style=\"text-align: right;\">\n",
       "      <th></th>\n",
       "      <th>Unnamed: 0</th>\n",
       "      <th>genre_ids</th>\n",
       "      <th>id</th>\n",
       "      <th>original_language</th>\n",
       "      <th>original_title</th>\n",
       "      <th>popularity</th>\n",
       "      <th>release_date</th>\n",
       "      <th>title</th>\n",
       "      <th>vote_average</th>\n",
       "      <th>vote_count</th>\n",
       "    </tr>\n",
       "  </thead>\n",
       "  <tbody>\n",
       "    <tr>\n",
       "      <th>0</th>\n",
       "      <td>0</td>\n",
       "      <td>[adventure, fantasy, family]</td>\n",
       "      <td>12444</td>\n",
       "      <td>en</td>\n",
       "      <td>Harry Potter and the Deathly Hallows: Part 1</td>\n",
       "      <td>33.533</td>\n",
       "      <td>2010-11-19</td>\n",
       "      <td>Harry Potter and the Deathly Hallows: Part 1</td>\n",
       "      <td>7.7</td>\n",
       "      <td>10788</td>\n",
       "    </tr>\n",
       "    <tr>\n",
       "      <th>1</th>\n",
       "      <td>1</td>\n",
       "      <td>[fantasy, adventure, animated, family]</td>\n",
       "      <td>10191</td>\n",
       "      <td>en</td>\n",
       "      <td>How to Train Your Dragon</td>\n",
       "      <td>28.734</td>\n",
       "      <td>2010-03-26</td>\n",
       "      <td>How to Train Your Dragon</td>\n",
       "      <td>7.7</td>\n",
       "      <td>7610</td>\n",
       "    </tr>\n",
       "    <tr>\n",
       "      <th>2</th>\n",
       "      <td>2</td>\n",
       "      <td>[adventure, action, sci-fi]</td>\n",
       "      <td>10138</td>\n",
       "      <td>en</td>\n",
       "      <td>Iron Man 2</td>\n",
       "      <td>28.515</td>\n",
       "      <td>2010-05-07</td>\n",
       "      <td>Iron Man 2</td>\n",
       "      <td>6.8</td>\n",
       "      <td>12368</td>\n",
       "    </tr>\n",
       "    <tr>\n",
       "      <th>3</th>\n",
       "      <td>3</td>\n",
       "      <td>[animated, comedy, family]</td>\n",
       "      <td>862</td>\n",
       "      <td>en</td>\n",
       "      <td>Toy Story</td>\n",
       "      <td>28.005</td>\n",
       "      <td>1995-11-22</td>\n",
       "      <td>Toy Story</td>\n",
       "      <td>7.9</td>\n",
       "      <td>10174</td>\n",
       "    </tr>\n",
       "    <tr>\n",
       "      <th>4</th>\n",
       "      <td>4</td>\n",
       "      <td>[action, sci-fi, adventure]</td>\n",
       "      <td>27205</td>\n",
       "      <td>en</td>\n",
       "      <td>Inception</td>\n",
       "      <td>27.920</td>\n",
       "      <td>2010-07-16</td>\n",
       "      <td>Inception</td>\n",
       "      <td>8.3</td>\n",
       "      <td>22186</td>\n",
       "    </tr>\n",
       "  </tbody>\n",
       "</table>\n",
       "</div>"
      ],
      "text/plain": [
       "   Unnamed: 0                               genre_ids     id  \\\n",
       "0           0            [adventure, fantasy, family]  12444   \n",
       "1           1  [fantasy, adventure, animated, family]  10191   \n",
       "2           2             [adventure, action, sci-fi]  10138   \n",
       "3           3              [animated, comedy, family]    862   \n",
       "4           4             [action, sci-fi, adventure]  27205   \n",
       "\n",
       "  original_language                                original_title  popularity  \\\n",
       "0                en  Harry Potter and the Deathly Hallows: Part 1      33.533   \n",
       "1                en                      How to Train Your Dragon      28.734   \n",
       "2                en                                    Iron Man 2      28.515   \n",
       "3                en                                     Toy Story      28.005   \n",
       "4                en                                     Inception      27.920   \n",
       "\n",
       "  release_date                                         title  vote_average  \\\n",
       "0   2010-11-19  Harry Potter and the Deathly Hallows: Part 1           7.7   \n",
       "1   2010-03-26                      How to Train Your Dragon           7.7   \n",
       "2   2010-05-07                                    Iron Man 2           6.8   \n",
       "3   1995-11-22                                     Toy Story           7.9   \n",
       "4   2010-07-16                                     Inception           8.3   \n",
       "\n",
       "   vote_count  \n",
       "0       10788  \n",
       "1        7610  \n",
       "2       12368  \n",
       "3       10174  \n",
       "4       22186  "
      ]
     },
     "execution_count": 35,
     "metadata": {},
     "output_type": "execute_result"
    }
   ],
   "source": [
    "data['tmdb.movies.csv.gz'].head()"
   ]
  },
  {
   "cell_type": "markdown",
   "metadata": {},
   "source": [
    "Merging the tmdb and the imbd datasets to compile movie ratings information and calling it 'movie_ratings_info'"
   ]
  },
  {
   "cell_type": "code",
   "execution_count": 36,
   "metadata": {},
   "outputs": [],
   "source": [
    "movie_ratings_info = data['tmdb.movies.csv.gz'].merge(imdb_movie, how = 'outer', on = 'original_title')"
   ]
  },
  {
   "cell_type": "code",
   "execution_count": 37,
   "metadata": {},
   "outputs": [
    {
     "data": {
      "text/html": [
       "<div>\n",
       "<style scoped>\n",
       "    .dataframe tbody tr th:only-of-type {\n",
       "        vertical-align: middle;\n",
       "    }\n",
       "\n",
       "    .dataframe tbody tr th {\n",
       "        vertical-align: top;\n",
       "    }\n",
       "\n",
       "    .dataframe thead th {\n",
       "        text-align: right;\n",
       "    }\n",
       "</style>\n",
       "<table border=\"1\" class=\"dataframe\">\n",
       "  <thead>\n",
       "    <tr style=\"text-align: right;\">\n",
       "      <th></th>\n",
       "      <th>Unnamed: 0</th>\n",
       "      <th>genre_ids</th>\n",
       "      <th>id</th>\n",
       "      <th>original_language</th>\n",
       "      <th>original_title</th>\n",
       "      <th>popularity</th>\n",
       "      <th>release_date</th>\n",
       "      <th>title</th>\n",
       "      <th>vote_average</th>\n",
       "      <th>vote_count</th>\n",
       "      <th>tconst</th>\n",
       "      <th>primary_title</th>\n",
       "      <th>start_year</th>\n",
       "      <th>runtime_minutes</th>\n",
       "      <th>genres</th>\n",
       "      <th>averagerating</th>\n",
       "      <th>numvotes</th>\n",
       "    </tr>\n",
       "  </thead>\n",
       "  <tbody>\n",
       "    <tr>\n",
       "      <th>0</th>\n",
       "      <td>0.0</td>\n",
       "      <td>[adventure, fantasy, family]</td>\n",
       "      <td>12444.0</td>\n",
       "      <td>en</td>\n",
       "      <td>Harry Potter and the Deathly Hallows: Part 1</td>\n",
       "      <td>33.533</td>\n",
       "      <td>2010-11-19</td>\n",
       "      <td>Harry Potter and the Deathly Hallows: Part 1</td>\n",
       "      <td>7.7</td>\n",
       "      <td>10788.0</td>\n",
       "      <td>tt0926084</td>\n",
       "      <td>Harry Potter and the Deathly Hallows: Part 1</td>\n",
       "      <td>2010.0</td>\n",
       "      <td>146.0</td>\n",
       "      <td>Adventure,Fantasy,Mystery</td>\n",
       "      <td>7.7</td>\n",
       "      <td>425530.0</td>\n",
       "    </tr>\n",
       "    <tr>\n",
       "      <th>1</th>\n",
       "      <td>1.0</td>\n",
       "      <td>[fantasy, adventure, animated, family]</td>\n",
       "      <td>10191.0</td>\n",
       "      <td>en</td>\n",
       "      <td>How to Train Your Dragon</td>\n",
       "      <td>28.734</td>\n",
       "      <td>2010-03-26</td>\n",
       "      <td>How to Train Your Dragon</td>\n",
       "      <td>7.7</td>\n",
       "      <td>7610.0</td>\n",
       "      <td>tt0892769</td>\n",
       "      <td>How to Train Your Dragon</td>\n",
       "      <td>2010.0</td>\n",
       "      <td>98.0</td>\n",
       "      <td>Action,Adventure,Animation</td>\n",
       "      <td>8.1</td>\n",
       "      <td>611299.0</td>\n",
       "    </tr>\n",
       "  </tbody>\n",
       "</table>\n",
       "</div>"
      ],
      "text/plain": [
       "   Unnamed: 0                               genre_ids       id  \\\n",
       "0         0.0            [adventure, fantasy, family]  12444.0   \n",
       "1         1.0  [fantasy, adventure, animated, family]  10191.0   \n",
       "\n",
       "  original_language                                original_title  popularity  \\\n",
       "0                en  Harry Potter and the Deathly Hallows: Part 1      33.533   \n",
       "1                en                      How to Train Your Dragon      28.734   \n",
       "\n",
       "  release_date                                         title  vote_average  \\\n",
       "0   2010-11-19  Harry Potter and the Deathly Hallows: Part 1           7.7   \n",
       "1   2010-03-26                      How to Train Your Dragon           7.7   \n",
       "\n",
       "   vote_count     tconst                                 primary_title  \\\n",
       "0     10788.0  tt0926084  Harry Potter and the Deathly Hallows: Part 1   \n",
       "1      7610.0  tt0892769                      How to Train Your Dragon   \n",
       "\n",
       "   start_year  runtime_minutes                      genres  averagerating  \\\n",
       "0      2010.0            146.0   Adventure,Fantasy,Mystery            7.7   \n",
       "1      2010.0             98.0  Action,Adventure,Animation            8.1   \n",
       "\n",
       "   numvotes  \n",
       "0  425530.0  \n",
       "1  611299.0  "
      ]
     },
     "execution_count": 37,
     "metadata": {},
     "output_type": "execute_result"
    }
   ],
   "source": [
    "movie_ratings_info.head(2)"
   ]
  },
  {
   "cell_type": "markdown",
   "metadata": {},
   "source": [
    "Dropping columns not interested in using"
   ]
  },
  {
   "cell_type": "code",
   "execution_count": 38,
   "metadata": {},
   "outputs": [],
   "source": [
    "movie_ratings_info.drop(columns = ['Unnamed: 0','id', 'popularity', 'tconst', 'start_year','primary_title', 'title', 'genres'], axis = 1, inplace = True)"
   ]
  },
  {
   "cell_type": "code",
   "execution_count": 39,
   "metadata": {},
   "outputs": [
    {
     "name": "stdout",
     "output_type": "stream",
     "text": [
      "<class 'pandas.core.frame.DataFrame'>\n",
      "Int64Index: 160208 entries, 0 to 160207\n",
      "Data columns (total 9 columns):\n",
      "genre_ids            31925 non-null object\n",
      "original_language    31925 non-null object\n",
      "original_title       160187 non-null object\n",
      "release_date         31925 non-null object\n",
      "vote_average         31925 non-null float64\n",
      "vote_count           31925 non-null float64\n",
      "runtime_minutes      117246 non-null float64\n",
      "averagerating        76248 non-null float64\n",
      "numvotes             76248 non-null float64\n",
      "dtypes: float64(5), object(4)\n",
      "memory usage: 12.2+ MB\n"
     ]
    }
   ],
   "source": [
    "movie_ratings_info.info()"
   ]
  },
  {
   "cell_type": "markdown",
   "metadata": {},
   "source": [
    "Columns I am interested in are the ratings or votes columns and the number of vote and the vote count columns.\n",
    "I will check on the size of the null values present in each of the variables and rely on the variable with lower number of null values, in each context."
   ]
  },
  {
   "cell_type": "code",
   "execution_count": 40,
   "metadata": {},
   "outputs": [
    {
     "data": {
      "text/plain": [
       "genre_ids            128283\n",
       "original_language    128283\n",
       "original_title           21\n",
       "release_date         128283\n",
       "vote_average         128283\n",
       "vote_count           128283\n",
       "runtime_minutes       42962\n",
       "averagerating         83960\n",
       "numvotes              83960\n",
       "dtype: int64"
      ]
     },
     "execution_count": 40,
     "metadata": {},
     "output_type": "execute_result"
    }
   ],
   "source": [
    "movie_ratings_info.isna().sum()"
   ]
  },
  {
   "cell_type": "markdown",
   "metadata": {},
   "source": [
    "My goal is to merge the two ratings columns into one as where the weighted average of the two will fill as values. Since one of the ratings columns has more NaNs than the other, and a weighted average on them will throw off the meaning of the final number, I use the where method on the averagerating column. The condition will be such that if the averagerating column has a value greater than then no changes are made, whereas if the condition is not met, the value is replaced with the value in the vote_average column."
   ]
  },
  {
   "cell_type": "code",
   "execution_count": 41,
   "metadata": {},
   "outputs": [],
   "source": [
    "movie_ratings_info['averagerating'].where(movie_ratings_info['averagerating'] > 0, other = movie_ratings_info['vote_average'], inplace = True)"
   ]
  },
  {
   "cell_type": "markdown",
   "metadata": {},
   "source": [
    "Similarly, my goal with the number of votes columns; 'vote_count' and 'numvotes' is also to combine the two as a sum of the two, to fill as values. The new column will be called 'number_votes'.\n",
    "And, the combined ratings column will be called 'average_rating'."
   ]
  },
  {
   "cell_type": "code",
   "execution_count": 42,
   "metadata": {},
   "outputs": [
    {
     "data": {
      "text/plain": [
       "genre_ids            128283\n",
       "original_language    128283\n",
       "original_title           21\n",
       "release_date         128283\n",
       "vote_average         128283\n",
       "vote_count           128283\n",
       "runtime_minutes       42962\n",
       "averagerating         69926\n",
       "numvotes              83960\n",
       "dtype: int64"
      ]
     },
     "execution_count": 42,
     "metadata": {},
     "output_type": "execute_result"
    }
   ],
   "source": [
    "movie_ratings_info.isna().sum()"
   ]
  },
  {
   "cell_type": "code",
   "execution_count": 43,
   "metadata": {},
   "outputs": [],
   "source": [
    "movie_ratings_info['average_rating'] = (movie_ratings_info['averagerating'] + movie_ratings_info['vote_average'])/2"
   ]
  },
  {
   "cell_type": "code",
   "execution_count": 44,
   "metadata": {},
   "outputs": [],
   "source": [
    "movie_ratings_info['number_votes'] = (movie_ratings_info['numvotes'] + movie_ratings_info['vote_count'])"
   ]
  },
  {
   "cell_type": "code",
   "execution_count": 45,
   "metadata": {},
   "outputs": [
    {
     "data": {
      "text/html": [
       "<div>\n",
       "<style scoped>\n",
       "    .dataframe tbody tr th:only-of-type {\n",
       "        vertical-align: middle;\n",
       "    }\n",
       "\n",
       "    .dataframe tbody tr th {\n",
       "        vertical-align: top;\n",
       "    }\n",
       "\n",
       "    .dataframe thead th {\n",
       "        text-align: right;\n",
       "    }\n",
       "</style>\n",
       "<table border=\"1\" class=\"dataframe\">\n",
       "  <thead>\n",
       "    <tr style=\"text-align: right;\">\n",
       "      <th></th>\n",
       "      <th>genre_ids</th>\n",
       "      <th>original_language</th>\n",
       "      <th>original_title</th>\n",
       "      <th>release_date</th>\n",
       "      <th>vote_average</th>\n",
       "      <th>vote_count</th>\n",
       "      <th>runtime_minutes</th>\n",
       "      <th>averagerating</th>\n",
       "      <th>numvotes</th>\n",
       "      <th>average_rating</th>\n",
       "      <th>number_votes</th>\n",
       "    </tr>\n",
       "  </thead>\n",
       "  <tbody>\n",
       "    <tr>\n",
       "      <th>0</th>\n",
       "      <td>[adventure, fantasy, family]</td>\n",
       "      <td>en</td>\n",
       "      <td>Harry Potter and the Deathly Hallows: Part 1</td>\n",
       "      <td>2010-11-19</td>\n",
       "      <td>7.7</td>\n",
       "      <td>10788.0</td>\n",
       "      <td>146.0</td>\n",
       "      <td>7.7</td>\n",
       "      <td>425530.0</td>\n",
       "      <td>7.7</td>\n",
       "      <td>436318.0</td>\n",
       "    </tr>\n",
       "    <tr>\n",
       "      <th>1</th>\n",
       "      <td>[fantasy, adventure, animated, family]</td>\n",
       "      <td>en</td>\n",
       "      <td>How to Train Your Dragon</td>\n",
       "      <td>2010-03-26</td>\n",
       "      <td>7.7</td>\n",
       "      <td>7610.0</td>\n",
       "      <td>98.0</td>\n",
       "      <td>8.1</td>\n",
       "      <td>611299.0</td>\n",
       "      <td>7.9</td>\n",
       "      <td>618909.0</td>\n",
       "    </tr>\n",
       "    <tr>\n",
       "      <th>2</th>\n",
       "      <td>[adventure, action, sci-fi]</td>\n",
       "      <td>en</td>\n",
       "      <td>Iron Man 2</td>\n",
       "      <td>2010-05-07</td>\n",
       "      <td>6.8</td>\n",
       "      <td>12368.0</td>\n",
       "      <td>124.0</td>\n",
       "      <td>7.0</td>\n",
       "      <td>657690.0</td>\n",
       "      <td>6.9</td>\n",
       "      <td>670058.0</td>\n",
       "    </tr>\n",
       "    <tr>\n",
       "      <th>3</th>\n",
       "      <td>[animated, comedy, family]</td>\n",
       "      <td>en</td>\n",
       "      <td>Toy Story</td>\n",
       "      <td>1995-11-22</td>\n",
       "      <td>7.9</td>\n",
       "      <td>10174.0</td>\n",
       "      <td>NaN</td>\n",
       "      <td>7.9</td>\n",
       "      <td>NaN</td>\n",
       "      <td>7.9</td>\n",
       "      <td>NaN</td>\n",
       "    </tr>\n",
       "    <tr>\n",
       "      <th>4</th>\n",
       "      <td>[animated, comedy, family]</td>\n",
       "      <td>en</td>\n",
       "      <td>Toy Story</td>\n",
       "      <td>1995-11-22</td>\n",
       "      <td>7.9</td>\n",
       "      <td>10174.0</td>\n",
       "      <td>NaN</td>\n",
       "      <td>7.9</td>\n",
       "      <td>NaN</td>\n",
       "      <td>7.9</td>\n",
       "      <td>NaN</td>\n",
       "    </tr>\n",
       "  </tbody>\n",
       "</table>\n",
       "</div>"
      ],
      "text/plain": [
       "                                genre_ids original_language  \\\n",
       "0            [adventure, fantasy, family]                en   \n",
       "1  [fantasy, adventure, animated, family]                en   \n",
       "2             [adventure, action, sci-fi]                en   \n",
       "3              [animated, comedy, family]                en   \n",
       "4              [animated, comedy, family]                en   \n",
       "\n",
       "                                 original_title release_date  vote_average  \\\n",
       "0  Harry Potter and the Deathly Hallows: Part 1   2010-11-19           7.7   \n",
       "1                      How to Train Your Dragon   2010-03-26           7.7   \n",
       "2                                    Iron Man 2   2010-05-07           6.8   \n",
       "3                                     Toy Story   1995-11-22           7.9   \n",
       "4                                     Toy Story   1995-11-22           7.9   \n",
       "\n",
       "   vote_count  runtime_minutes  averagerating  numvotes  average_rating  \\\n",
       "0     10788.0            146.0            7.7  425530.0             7.7   \n",
       "1      7610.0             98.0            8.1  611299.0             7.9   \n",
       "2     12368.0            124.0            7.0  657690.0             6.9   \n",
       "3     10174.0              NaN            7.9       NaN             7.9   \n",
       "4     10174.0              NaN            7.9       NaN             7.9   \n",
       "\n",
       "   number_votes  \n",
       "0      436318.0  \n",
       "1      618909.0  \n",
       "2      670058.0  \n",
       "3           NaN  \n",
       "4           NaN  "
      ]
     },
     "execution_count": 45,
     "metadata": {},
     "output_type": "execute_result"
    }
   ],
   "source": [
    "movie_ratings_info.head()"
   ]
  },
  {
   "cell_type": "code",
   "execution_count": 46,
   "metadata": {},
   "outputs": [
    {
     "data": {
      "text/plain": [
       "genre_ids            128283\n",
       "original_language    128283\n",
       "original_title           21\n",
       "release_date         128283\n",
       "vote_average         128283\n",
       "vote_count           128283\n",
       "runtime_minutes       42962\n",
       "averagerating         69926\n",
       "numvotes              83960\n",
       "average_rating       128283\n",
       "number_votes         142317\n",
       "dtype: int64"
      ]
     },
     "execution_count": 46,
     "metadata": {},
     "output_type": "execute_result"
    }
   ],
   "source": [
    "movie_ratings_info.isna().sum()"
   ]
  },
  {
   "cell_type": "code",
   "execution_count": 50,
   "metadata": {},
   "outputs": [
    {
     "data": {
      "text/plain": [
       "(17891, 11)"
      ]
     },
     "execution_count": 50,
     "metadata": {},
     "output_type": "execute_result"
    }
   ],
   "source": [
    "movie_ratings_info.shape"
   ]
  },
  {
   "cell_type": "code",
   "execution_count": 47,
   "metadata": {},
   "outputs": [],
   "source": [
    "movie_ratings_info.dropna(subset = ['number_votes'], inplace = True)"
   ]
  },
  {
   "cell_type": "code",
   "execution_count": 48,
   "metadata": {},
   "outputs": [
    {
     "data": {
      "text/plain": [
       "genre_ids              0\n",
       "original_language      0\n",
       "original_title         0\n",
       "release_date           0\n",
       "vote_average           0\n",
       "vote_count             0\n",
       "runtime_minutes      497\n",
       "averagerating          0\n",
       "numvotes               0\n",
       "average_rating         0\n",
       "number_votes           0\n",
       "dtype: int64"
      ]
     },
     "execution_count": 48,
     "metadata": {},
     "output_type": "execute_result"
    }
   ],
   "source": [
    "movie_ratings_info.isna().sum()"
   ]
  },
  {
   "cell_type": "code",
   "execution_count": 51,
   "metadata": {},
   "outputs": [
    {
     "data": {
      "text/plain": [
       "(17891, 11)"
      ]
     },
     "execution_count": 51,
     "metadata": {},
     "output_type": "execute_result"
    }
   ],
   "source": [
    "movie_ratings_info.shape"
   ]
  },
  {
   "cell_type": "code",
   "execution_count": 105,
   "metadata": {},
   "outputs": [],
   "source": [
    "movie_ratings_info.drop_duplicates(subset='original_title', inplace = True)"
   ]
  },
  {
   "cell_type": "code",
   "execution_count": 106,
   "metadata": {},
   "outputs": [
    {
     "name": "stdout",
     "output_type": "stream",
     "text": [
      "<class 'pandas.core.frame.DataFrame'>\n",
      "Int64Index: 13801 entries, 0 to 31924\n",
      "Data columns (total 11 columns):\n",
      "genre_ids            13801 non-null object\n",
      "original_language    13801 non-null object\n",
      "original_title       13801 non-null object\n",
      "release_date         13801 non-null object\n",
      "vote_average         13801 non-null float64\n",
      "vote_count           13801 non-null float64\n",
      "runtime_minutes      13549 non-null float64\n",
      "averagerating        13801 non-null float64\n",
      "numvotes             13801 non-null float64\n",
      "average_rating       13801 non-null float64\n",
      "number_votes         13801 non-null float64\n",
      "dtypes: float64(7), object(4)\n",
      "memory usage: 1.3+ MB\n"
     ]
    }
   ],
   "source": [
    "movie_ratings_info.info()"
   ]
  },
  {
   "cell_type": "code",
   "execution_count": 52,
   "metadata": {},
   "outputs": [
    {
     "data": {
      "text/html": [
       "<div>\n",
       "<style scoped>\n",
       "    .dataframe tbody tr th:only-of-type {\n",
       "        vertical-align: middle;\n",
       "    }\n",
       "\n",
       "    .dataframe tbody tr th {\n",
       "        vertical-align: top;\n",
       "    }\n",
       "\n",
       "    .dataframe thead th {\n",
       "        text-align: right;\n",
       "    }\n",
       "</style>\n",
       "<table border=\"1\" class=\"dataframe\">\n",
       "  <thead>\n",
       "    <tr style=\"text-align: right;\">\n",
       "      <th></th>\n",
       "      <th>vote_average</th>\n",
       "      <th>vote_count</th>\n",
       "      <th>runtime_minutes</th>\n",
       "      <th>averagerating</th>\n",
       "      <th>numvotes</th>\n",
       "      <th>average_rating</th>\n",
       "      <th>number_votes</th>\n",
       "    </tr>\n",
       "  </thead>\n",
       "  <tbody>\n",
       "    <tr>\n",
       "      <th>count</th>\n",
       "      <td>13801.000000</td>\n",
       "      <td>13801.000000</td>\n",
       "      <td>13549.000000</td>\n",
       "      <td>13801.000000</td>\n",
       "      <td>1.380100e+04</td>\n",
       "      <td>13801.000000</td>\n",
       "      <td>1.380100e+04</td>\n",
       "    </tr>\n",
       "    <tr>\n",
       "      <th>mean</th>\n",
       "      <td>5.740809</td>\n",
       "      <td>274.417144</td>\n",
       "      <td>93.519743</td>\n",
       "      <td>5.848446</td>\n",
       "      <td>1.578894e+04</td>\n",
       "      <td>5.794627</td>\n",
       "      <td>1.606335e+04</td>\n",
       "    </tr>\n",
       "    <tr>\n",
       "      <th>std</th>\n",
       "      <td>1.735708</td>\n",
       "      <td>1129.310668</td>\n",
       "      <td>18.210607</td>\n",
       "      <td>1.413375</td>\n",
       "      <td>6.593525e+04</td>\n",
       "      <td>1.392424</td>\n",
       "      <td>6.698607e+04</td>\n",
       "    </tr>\n",
       "    <tr>\n",
       "      <th>min</th>\n",
       "      <td>0.000000</td>\n",
       "      <td>1.000000</td>\n",
       "      <td>9.000000</td>\n",
       "      <td>1.100000</td>\n",
       "      <td>5.000000e+00</td>\n",
       "      <td>0.800000</td>\n",
       "      <td>6.000000e+00</td>\n",
       "    </tr>\n",
       "    <tr>\n",
       "      <th>25%</th>\n",
       "      <td>4.900000</td>\n",
       "      <td>2.000000</td>\n",
       "      <td>84.000000</td>\n",
       "      <td>4.900000</td>\n",
       "      <td>1.090000e+02</td>\n",
       "      <td>4.900000</td>\n",
       "      <td>1.150000e+02</td>\n",
       "    </tr>\n",
       "    <tr>\n",
       "      <th>50%</th>\n",
       "      <td>5.900000</td>\n",
       "      <td>8.000000</td>\n",
       "      <td>91.000000</td>\n",
       "      <td>6.000000</td>\n",
       "      <td>4.480000e+02</td>\n",
       "      <td>5.900000</td>\n",
       "      <td>4.650000e+02</td>\n",
       "    </tr>\n",
       "    <tr>\n",
       "      <th>75%</th>\n",
       "      <td>6.800000</td>\n",
       "      <td>51.000000</td>\n",
       "      <td>101.000000</td>\n",
       "      <td>6.900000</td>\n",
       "      <td>3.065000e+03</td>\n",
       "      <td>6.750000</td>\n",
       "      <td>3.136000e+03</td>\n",
       "    </tr>\n",
       "    <tr>\n",
       "      <th>max</th>\n",
       "      <td>10.000000</td>\n",
       "      <td>22186.000000</td>\n",
       "      <td>724.000000</td>\n",
       "      <td>9.800000</td>\n",
       "      <td>1.841066e+06</td>\n",
       "      <td>9.900000</td>\n",
       "      <td>1.863252e+06</td>\n",
       "    </tr>\n",
       "  </tbody>\n",
       "</table>\n",
       "</div>"
      ],
      "text/plain": [
       "       vote_average    vote_count  runtime_minutes  averagerating  \\\n",
       "count  13801.000000  13801.000000     13549.000000   13801.000000   \n",
       "mean       5.740809    274.417144        93.519743       5.848446   \n",
       "std        1.735708   1129.310668        18.210607       1.413375   \n",
       "min        0.000000      1.000000         9.000000       1.100000   \n",
       "25%        4.900000      2.000000        84.000000       4.900000   \n",
       "50%        5.900000      8.000000        91.000000       6.000000   \n",
       "75%        6.800000     51.000000       101.000000       6.900000   \n",
       "max       10.000000  22186.000000       724.000000       9.800000   \n",
       "\n",
       "           numvotes  average_rating  number_votes  \n",
       "count  1.380100e+04    13801.000000  1.380100e+04  \n",
       "mean   1.578894e+04        5.794627  1.606335e+04  \n",
       "std    6.593525e+04        1.392424  6.698607e+04  \n",
       "min    5.000000e+00        0.800000  6.000000e+00  \n",
       "25%    1.090000e+02        4.900000  1.150000e+02  \n",
       "50%    4.480000e+02        5.900000  4.650000e+02  \n",
       "75%    3.065000e+03        6.750000  3.136000e+03  \n",
       "max    1.841066e+06        9.900000  1.863252e+06  "
      ]
     },
     "execution_count": 52,
     "metadata": {},
     "output_type": "execute_result"
    }
   ],
   "source": [
    "movie_ratings_info.describe()"
   ]
  },
  {
   "cell_type": "code",
   "execution_count": 53,
   "metadata": {},
   "outputs": [
    {
     "data": {
      "text/plain": [
       "5.9"
      ]
     },
     "execution_count": 53,
     "metadata": {},
     "output_type": "execute_result"
    }
   ],
   "source": [
    "movie_ratings_info['average_rating'].median()"
   ]
  },
  {
   "cell_type": "code",
   "execution_count": 54,
   "metadata": {},
   "outputs": [
    {
     "data": {
      "text/plain": [
       "0    6.1\n",
       "dtype: float64"
      ]
     },
     "execution_count": 54,
     "metadata": {},
     "output_type": "execute_result"
    }
   ],
   "source": [
    "movie_ratings_info['average_rating'].mode()"
   ]
  },
  {
   "cell_type": "code",
   "execution_count": 260,
   "metadata": {},
   "outputs": [
    {
     "data": {
      "text/html": [
       "<div>\n",
       "<style scoped>\n",
       "    .dataframe tbody tr th:only-of-type {\n",
       "        vertical-align: middle;\n",
       "    }\n",
       "\n",
       "    .dataframe tbody tr th {\n",
       "        vertical-align: top;\n",
       "    }\n",
       "\n",
       "    .dataframe thead th {\n",
       "        text-align: right;\n",
       "    }\n",
       "</style>\n",
       "<table border=\"1\" class=\"dataframe\">\n",
       "  <thead>\n",
       "    <tr style=\"text-align: right;\">\n",
       "      <th></th>\n",
       "      <th>vote_average</th>\n",
       "      <th>vote_count</th>\n",
       "      <th>runtime_minutes</th>\n",
       "      <th>averagerating</th>\n",
       "      <th>numvotes</th>\n",
       "      <th>average_rating</th>\n",
       "      <th>number_votes</th>\n",
       "    </tr>\n",
       "  </thead>\n",
       "  <tbody>\n",
       "    <tr>\n",
       "      <th>vote_average</th>\n",
       "      <td>1.000000</td>\n",
       "      <td>0.134382</td>\n",
       "      <td>0.129355</td>\n",
       "      <td>0.559485</td>\n",
       "      <td>0.134580</td>\n",
       "      <td>0.907220</td>\n",
       "      <td>0.134735</td>\n",
       "    </tr>\n",
       "    <tr>\n",
       "      <th>vote_count</th>\n",
       "      <td>0.134382</td>\n",
       "      <td>1.000000</td>\n",
       "      <td>0.279319</td>\n",
       "      <td>0.166001</td>\n",
       "      <td>0.929352</td>\n",
       "      <td>0.168005</td>\n",
       "      <td>0.931632</td>\n",
       "    </tr>\n",
       "    <tr>\n",
       "      <th>runtime_minutes</th>\n",
       "      <td>0.129355</td>\n",
       "      <td>0.279319</td>\n",
       "      <td>1.000000</td>\n",
       "      <td>0.136667</td>\n",
       "      <td>0.292739</td>\n",
       "      <td>0.149748</td>\n",
       "      <td>0.292854</td>\n",
       "    </tr>\n",
       "    <tr>\n",
       "      <th>averagerating</th>\n",
       "      <td>0.559485</td>\n",
       "      <td>0.166001</td>\n",
       "      <td>0.136667</td>\n",
       "      <td>1.000000</td>\n",
       "      <td>0.181215</td>\n",
       "      <td>0.856233</td>\n",
       "      <td>0.181171</td>\n",
       "    </tr>\n",
       "    <tr>\n",
       "      <th>numvotes</th>\n",
       "      <td>0.134580</td>\n",
       "      <td>0.929352</td>\n",
       "      <td>0.292739</td>\n",
       "      <td>0.181215</td>\n",
       "      <td>1.000000</td>\n",
       "      <td>0.175850</td>\n",
       "      <td>0.999981</td>\n",
       "    </tr>\n",
       "    <tr>\n",
       "      <th>average_rating</th>\n",
       "      <td>0.907220</td>\n",
       "      <td>0.168005</td>\n",
       "      <td>0.149748</td>\n",
       "      <td>0.856233</td>\n",
       "      <td>0.175850</td>\n",
       "      <td>1.000000</td>\n",
       "      <td>0.175924</td>\n",
       "    </tr>\n",
       "    <tr>\n",
       "      <th>number_votes</th>\n",
       "      <td>0.134735</td>\n",
       "      <td>0.931632</td>\n",
       "      <td>0.292854</td>\n",
       "      <td>0.181171</td>\n",
       "      <td>0.999981</td>\n",
       "      <td>0.175924</td>\n",
       "      <td>1.000000</td>\n",
       "    </tr>\n",
       "  </tbody>\n",
       "</table>\n",
       "</div>"
      ],
      "text/plain": [
       "                 vote_average  vote_count  runtime_minutes  averagerating  \\\n",
       "vote_average         1.000000    0.134382         0.129355       0.559485   \n",
       "vote_count           0.134382    1.000000         0.279319       0.166001   \n",
       "runtime_minutes      0.129355    0.279319         1.000000       0.136667   \n",
       "averagerating        0.559485    0.166001         0.136667       1.000000   \n",
       "numvotes             0.134580    0.929352         0.292739       0.181215   \n",
       "average_rating       0.907220    0.168005         0.149748       0.856233   \n",
       "number_votes         0.134735    0.931632         0.292854       0.181171   \n",
       "\n",
       "                 numvotes  average_rating  number_votes  \n",
       "vote_average     0.134580        0.907220      0.134735  \n",
       "vote_count       0.929352        0.168005      0.931632  \n",
       "runtime_minutes  0.292739        0.149748      0.292854  \n",
       "averagerating    0.181215        0.856233      0.181171  \n",
       "numvotes         1.000000        0.175850      0.999981  \n",
       "average_rating   0.175850        1.000000      0.175924  \n",
       "number_votes     0.999981        0.175924      1.000000  "
      ]
     },
     "execution_count": 260,
     "metadata": {},
     "output_type": "execute_result"
    }
   ],
   "source": [
    "movie_ratings_info.corr()"
   ]
  },
  {
   "cell_type": "code",
   "execution_count": 176,
   "metadata": {},
   "outputs": [
    {
     "data": {
      "text/html": [
       "<div>\n",
       "<style scoped>\n",
       "    .dataframe tbody tr th:only-of-type {\n",
       "        vertical-align: middle;\n",
       "    }\n",
       "\n",
       "    .dataframe tbody tr th {\n",
       "        vertical-align: top;\n",
       "    }\n",
       "\n",
       "    .dataframe thead th {\n",
       "        text-align: right;\n",
       "    }\n",
       "</style>\n",
       "<table border=\"1\" class=\"dataframe\">\n",
       "  <thead>\n",
       "    <tr style=\"text-align: right;\">\n",
       "      <th></th>\n",
       "      <th>genre_ids</th>\n",
       "      <th>original_language</th>\n",
       "      <th>original_title</th>\n",
       "      <th>release_date</th>\n",
       "      <th>vote_average</th>\n",
       "      <th>vote_count</th>\n",
       "      <th>runtime_minutes</th>\n",
       "      <th>averagerating</th>\n",
       "      <th>numvotes</th>\n",
       "      <th>average_rating</th>\n",
       "      <th>number_votes</th>\n",
       "    </tr>\n",
       "  </thead>\n",
       "  <tbody>\n",
       "    <tr>\n",
       "      <th>5</th>\n",
       "      <td>[action, sci-fi, adventure]</td>\n",
       "      <td>en</td>\n",
       "      <td>Inception</td>\n",
       "      <td>2010-07-16</td>\n",
       "      <td>8.3</td>\n",
       "      <td>22186.0</td>\n",
       "      <td>148.0</td>\n",
       "      <td>8.8</td>\n",
       "      <td>1841066.0</td>\n",
       "      <td>8.55</td>\n",
       "      <td>1863252.0</td>\n",
       "    </tr>\n",
       "    <tr>\n",
       "      <th>6976</th>\n",
       "      <td>[action, crime, drama, thriller]</td>\n",
       "      <td>en</td>\n",
       "      <td>The Dark Knight Rises</td>\n",
       "      <td>2012-07-20</td>\n",
       "      <td>7.7</td>\n",
       "      <td>13933.0</td>\n",
       "      <td>164.0</td>\n",
       "      <td>8.4</td>\n",
       "      <td>1387769.0</td>\n",
       "      <td>8.05</td>\n",
       "      <td>1401702.0</td>\n",
       "    </tr>\n",
       "    <tr>\n",
       "      <th>14586</th>\n",
       "      <td>[adventure, drama, sci-fi]</td>\n",
       "      <td>en</td>\n",
       "      <td>Interstellar</td>\n",
       "      <td>2014-11-05</td>\n",
       "      <td>8.2</td>\n",
       "      <td>18597.0</td>\n",
       "      <td>169.0</td>\n",
       "      <td>8.6</td>\n",
       "      <td>1299334.0</td>\n",
       "      <td>8.40</td>\n",
       "      <td>1317931.0</td>\n",
       "    </tr>\n",
       "    <tr>\n",
       "      <th>6983</th>\n",
       "      <td>[drama, western]</td>\n",
       "      <td>en</td>\n",
       "      <td>Django Unchained</td>\n",
       "      <td>2012-12-25</td>\n",
       "      <td>8.0</td>\n",
       "      <td>15725.0</td>\n",
       "      <td>165.0</td>\n",
       "      <td>8.4</td>\n",
       "      <td>1211405.0</td>\n",
       "      <td>8.20</td>\n",
       "      <td>1227130.0</td>\n",
       "    </tr>\n",
       "    <tr>\n",
       "      <th>6970</th>\n",
       "      <td>[sci-fi, action, adventure]</td>\n",
       "      <td>en</td>\n",
       "      <td>The Avengers</td>\n",
       "      <td>2012-05-04</td>\n",
       "      <td>7.6</td>\n",
       "      <td>19673.0</td>\n",
       "      <td>143.0</td>\n",
       "      <td>8.1</td>\n",
       "      <td>1183655.0</td>\n",
       "      <td>7.85</td>\n",
       "      <td>1203328.0</td>\n",
       "    </tr>\n",
       "  </tbody>\n",
       "</table>\n",
       "</div>"
      ],
      "text/plain": [
       "                              genre_ids original_language  \\\n",
       "5           [action, sci-fi, adventure]                en   \n",
       "6976   [action, crime, drama, thriller]                en   \n",
       "14586        [adventure, drama, sci-fi]                en   \n",
       "6983                   [drama, western]                en   \n",
       "6970        [sci-fi, action, adventure]                en   \n",
       "\n",
       "              original_title release_date  vote_average  vote_count  \\\n",
       "5                  Inception   2010-07-16           8.3     22186.0   \n",
       "6976   The Dark Knight Rises   2012-07-20           7.7     13933.0   \n",
       "14586           Interstellar   2014-11-05           8.2     18597.0   \n",
       "6983        Django Unchained   2012-12-25           8.0     15725.0   \n",
       "6970            The Avengers   2012-05-04           7.6     19673.0   \n",
       "\n",
       "       runtime_minutes  averagerating   numvotes  average_rating  number_votes  \n",
       "5                148.0            8.8  1841066.0            8.55     1863252.0  \n",
       "6976             164.0            8.4  1387769.0            8.05     1401702.0  \n",
       "14586            169.0            8.6  1299334.0            8.40     1317931.0  \n",
       "6983             165.0            8.4  1211405.0            8.20     1227130.0  \n",
       "6970             143.0            8.1  1183655.0            7.85     1203328.0  "
      ]
     },
     "execution_count": 176,
     "metadata": {},
     "output_type": "execute_result"
    }
   ],
   "source": [
    "movie_ratings_info.sort_values(by = 'number_votes', ascending = False).head()"
   ]
  },
  {
   "cell_type": "code",
   "execution_count": 169,
   "metadata": {},
   "outputs": [],
   "source": [
    "# ratings_more_than_5 = movie_ratings_info[movie_ratings_info['average_rating'] > 5]\n",
    "# len(ratings_more_than_5)\n",
    "# # use this for plotting on"
   ]
  },
  {
   "cell_type": "code",
   "execution_count": 146,
   "metadata": {},
   "outputs": [],
   "source": [
    "# ratings_more_than_8 = movie_ratings_info[movie_ratings_info['average_rating'] > 8]  \n",
    "# #                                          &  movie_ratings_info['number_votes']>50]\n",
    "# len(ratings_more_than_8)\n",
    "# ratings_over_8 = ratings_more_than_8[ratings_more_than_8['number_votes']>100]"
   ]
  },
  {
   "cell_type": "code",
   "execution_count": 170,
   "metadata": {},
   "outputs": [],
   "source": [
    "# ratings_over_8.sort_values(by = 'number_votes')"
   ]
  },
  {
   "cell_type": "markdown",
   "metadata": {},
   "source": [
    "Out of 13801 movies, 10081 0r 73% of the sample of movies had average ratings over 5 points whereas only 2627 or 20% of the sample of movies had average ratings over 8"
   ]
  },
  {
   "cell_type": "code",
   "execution_count": 172,
   "metadata": {},
   "outputs": [],
   "source": [
    "# ratings_more_than_5['release_date'].dtype"
   ]
  },
  {
   "cell_type": "code",
   "execution_count": 171,
   "metadata": {},
   "outputs": [],
   "source": [
    "# ratings_more_than_5.corr()"
   ]
  },
  {
   "cell_type": "markdown",
   "metadata": {},
   "source": [
    "The correlation between the average_rating and number of votes is a very low positive. There is not significant effect on the average rating of a movie as more people voted. The ratings are reflective of how well liked a movie was by the people who watched it."
   ]
  },
  {
   "cell_type": "code",
   "execution_count": 62,
   "metadata": {},
   "outputs": [],
   "source": [
    "import matplotlib.pyplot as plt\n",
    "%matplotlib inline"
   ]
  },
  {
   "cell_type": "code",
   "execution_count": 265,
   "metadata": {},
   "outputs": [
    {
     "data": {
      "image/png": "[encoded data removed]",
      "text/plain": [
       "<Figure size 720x360 with 1 Axes>"
      ]
     },
     "metadata": {},
     "output_type": "display_data"
    }
   ],
   "source": [
    "# Generating Figure\n",
    "figure1, ax = plt.subplots(figsize = (10,5))\n",
    "# Generating scatter plot to preview variable relationship\n",
    "x = movie_ratings_info['average_rating']\n",
    "y = movie_ratings_info['number_votes']\n",
    "ax.scatter(x,y)\n",
    "\n",
    "# Hide the top and right spines\n",
    "ax.spines['top'].set_visible(False)\n",
    "ax.spines['right'].set_visible(False)\n",
    "\n",
    "#Set axes labels\n",
    "ax.set_xlabel('Average Rating Values', fontsize = 15, weight = 'bold')\n",
    "ax.set_ylabel('Frequency of Votes', fontsize = 15, weight = 'bold')\n",
    "#adjusting tick parameter\n",
    "ax.tick_params('both', labelsize = 12, pad = 5)\n",
    "#setting figure title\n",
    "ax.set_title('Correlation between number of votes \\n and Average rating', pad = 20, fontsize = 15, weight = 'bold')\n",
    "\n",
    "ax.text(1, 1250000, 'The correlation between the two variables is .176 \\n which can also be visualized here in the plot as a very weak positive', fontsize =12)\n",
    "\n",
    "\n",
    "\n",
    "\n",
    "plt.show();"
   ]
  },
  {
   "cell_type": "code",
   "execution_count": 238,
   "metadata": {},
   "outputs": [
    {
     "data": {
      "image/png": "[encoded data removed]",
      "text/plain": [
       "<Figure size 1296x648 with 1 Axes>"
      ]
     },
     "metadata": {},
     "output_type": "display_data"
    }
   ],
   "source": [
    "# Generate a figure with a single axis\n",
    "figure2, ax = plt.subplots(figsize = (18, 9))\n",
    "#Generate a histogram on the ax\n",
    "x = movie_ratings_info['average_rating']\n",
    "ax.hist(x, bins = 75, range = (0, 10))\n",
    "\n",
    "# Hide the top and right spines\n",
    "ax.spines['top'].set_visible(False)\n",
    "ax.spines['right'].set_visible(False)\n",
    "\n",
    "#Set axes labels\n",
    "ax.set_xlabel('Average Rating Values', fontsize = 15, weight = 'bold')\n",
    "ax.set_ylabel('Frequency of Average Rating Values', fontsize = 15, weight = 'bold')\n",
    "#adjusting tick parameter\n",
    "ax.tick_params('both', labelsize = 15, pad = 5)\n",
    "#setting figure title\n",
    "ax.set_title('Average Rating Distribution', pad = 20, fontsize = 25, weight = 'bold')\n",
    "\n",
    "#adding vertical lines to create section of data\n",
    "ax.axvline(5, color = 'black', alpha = 0.7)\n",
    "ax.axvline(7, color = 'black', alpha = 0.7)\n",
    "\n",
    "#Adding text\n",
    "ax.text(0,  200, 'About 25% of the movies in the sample, \\n have low average ratings', fontsize = 15)\n",
    "ax.text(5.5, 710, 'About 50% of the movies in the sample have average ratings', fontsize = 15)\n",
    "ax.text(8, 200, 'About 25% of the movies in the \\n sample have high average ratings', fontsize = 15)\n",
    "\n",
    "plt.show();"
   ]
  },
  {
   "cell_type": "code",
   "execution_count": 243,
   "metadata": {},
   "outputs": [],
   "source": [
    "genres_list = genre_id_to_string.values()\n",
    "\n",
    "genre_counter = {}\n",
    "genre_counter = dict.fromkeys(genres_list)\n",
    "\n",
    "for genre in genre_counter.keys():\n",
    "    genre_counter[genre] =  0"
   ]
  },
  {
   "cell_type": "code",
   "execution_count": 244,
   "metadata": {},
   "outputs": [],
   "source": [
    "# I want to create a genre counter to see how many times a genre appears in the group of movies with ratings higher than 8\n",
    "\n",
    "for glist in movie_ratings_info['genre_ids']:\n",
    "    for genre in glist:\n",
    "        if genre in genre_counter.keys(): \n",
    "            genre_counter[genre] += 1\n",
    "        \n",
    "        "
   ]
  },
  {
   "cell_type": "code",
   "execution_count": 245,
   "metadata": {},
   "outputs": [
    {
     "data": {
      "text/plain": [
       "{'action': 1480,\n",
       " 'animated': 340,\n",
       " 'documentary': 2605,\n",
       " 'drama': 4993,\n",
       " 'family': 710,\n",
       " 'fantasy': 512,\n",
       " 'history': 330,\n",
       " 'comedy': 2992,\n",
       " 'war': 188,\n",
       " 'crime': 906,\n",
       " 'music': 412,\n",
       " 'mystery': 696,\n",
       " 'romance': 1264,\n",
       " 'sci-fi': 921,\n",
       " 'horror': 2358,\n",
       " 'TV-movie': 114,\n",
       " 'thriller': 2735,\n",
       " 'western': 114,\n",
       " 'adventure': 764}"
      ]
     },
     "execution_count": 245,
     "metadata": {},
     "output_type": "execute_result"
    }
   ],
   "source": [
    "genre_counter"
   ]
  },
  {
   "cell_type": "code",
   "execution_count": 254,
   "metadata": {},
   "outputs": [
    {
     "data": {
      "image/png": "[encoded data removed]",
      "text/plain": [
       "<Figure size 720x504 with 1 Axes>"
      ]
     },
     "metadata": {},
     "output_type": "display_data"
    }
   ],
   "source": [
    "# Generating figure\n",
    "figure, ax = plt.subplots(figsize = (10, 7))\n",
    "\n",
    "# generating a horizontal bar plot on the ax\n",
    "x = list(genre_counter.values())\n",
    "y = list(genre_counter.keys())\n",
    "ax.barh(y, x)\n",
    "\n",
    "#Set axes labels\n",
    "ax.set_xlabel('Frequency of Genres rated', fontsize = 15, weight = 'bold')\n",
    "ax.set_ylabel('Movie Genres', fontsize = 15, weight = 'bold')\n",
    "#adjusting tick parameter\n",
    "ax.tick_params('both', labelsize = 12, pad = 5)\n",
    "#setting figure title\n",
    "ax.set_title('Most rated movies fall in the genre category of', pad = 20, fontsize = 15, weight = 'bold')\n",
    "#Hiding top and right spines\n",
    "ax.spines['top'].set_visible(False)\n",
    "ax.spines['right'].set_visible(False)\n",
    "\n",
    "plt.show;"
   ]
  },
  {
   "cell_type": "code",
   "execution_count": 127,
   "metadata": {},
   "outputs": [
    {
     "data": {
      "text/plain": [
       "tconst             0\n",
       "primary_title      0\n",
       "original_title     0\n",
       "start_year         0\n",
       "runtime_minutes    0\n",
       "genres             0\n",
       "averagerating      0\n",
       "numvotes           0\n",
       "dtype: int64"
      ]
     },
     "execution_count": 127,
     "metadata": {},
     "output_type": "execute_result"
    }
   ],
   "source": [
    "imdb_movie.isna().sum()"
   ]
  },
  {
   "cell_type": "code",
   "execution_count": 117,
   "metadata": {},
   "outputs": [
    {
     "data": {
      "text/plain": [
       "(73052, 8)"
      ]
     },
     "execution_count": 117,
     "metadata": {},
     "output_type": "execute_result"
    }
   ],
   "source": [
    "imdb_movie.shape"
   ]
  },
  {
   "cell_type": "code",
   "execution_count": 118,
   "metadata": {},
   "outputs": [],
   "source": [
    "imdb_movie.dropna(subset = ['averagerating'], inplace = True)"
   ]
  },
  {
   "cell_type": "code",
   "execution_count": 119,
   "metadata": {},
   "outputs": [
    {
     "data": {
      "text/plain": [
       "(73052, 8)"
      ]
     },
     "execution_count": 119,
     "metadata": {},
     "output_type": "execute_result"
    }
   ],
   "source": [
    "imdb_movie.shape"
   ]
  },
  {
   "cell_type": "code",
   "execution_count": 120,
   "metadata": {},
   "outputs": [],
   "source": [
    "imdb_movie.dropna(subset = ['genres'], inplace= True)"
   ]
  },
  {
   "cell_type": "code",
   "execution_count": 64,
   "metadata": {},
   "outputs": [
    {
     "data": {
      "text/html": [
       "<div>\n",
       "<style scoped>\n",
       "    .dataframe tbody tr th:only-of-type {\n",
       "        vertical-align: middle;\n",
       "    }\n",
       "\n",
       "    .dataframe tbody tr th {\n",
       "        vertical-align: top;\n",
       "    }\n",
       "\n",
       "    .dataframe thead th {\n",
       "        text-align: right;\n",
       "    }\n",
       "</style>\n",
       "<table border=\"1\" class=\"dataframe\">\n",
       "  <thead>\n",
       "    <tr style=\"text-align: right;\">\n",
       "      <th></th>\n",
       "      <th>tconst</th>\n",
       "      <th>primary_title</th>\n",
       "      <th>original_title</th>\n",
       "      <th>start_year</th>\n",
       "      <th>runtime_minutes</th>\n",
       "      <th>genres</th>\n",
       "      <th>averagerating</th>\n",
       "      <th>numvotes</th>\n",
       "    </tr>\n",
       "  </thead>\n",
       "  <tbody>\n",
       "    <tr>\n",
       "      <th>0</th>\n",
       "      <td>tt0063540</td>\n",
       "      <td>Sunghursh</td>\n",
       "      <td>Sunghursh</td>\n",
       "      <td>2013</td>\n",
       "      <td>175.0</td>\n",
       "      <td>Action,Crime,Drama</td>\n",
       "      <td>7.0</td>\n",
       "      <td>77.0</td>\n",
       "    </tr>\n",
       "    <tr>\n",
       "      <th>1</th>\n",
       "      <td>tt0066787</td>\n",
       "      <td>One Day Before the Rainy Season</td>\n",
       "      <td>Ashad Ka Ek Din</td>\n",
       "      <td>2019</td>\n",
       "      <td>114.0</td>\n",
       "      <td>Biography,Drama</td>\n",
       "      <td>7.2</td>\n",
       "      <td>43.0</td>\n",
       "    </tr>\n",
       "    <tr>\n",
       "      <th>2</th>\n",
       "      <td>tt0069049</td>\n",
       "      <td>The Other Side of the Wind</td>\n",
       "      <td>The Other Side of the Wind</td>\n",
       "      <td>2018</td>\n",
       "      <td>122.0</td>\n",
       "      <td>Drama</td>\n",
       "      <td>6.9</td>\n",
       "      <td>4517.0</td>\n",
       "    </tr>\n",
       "    <tr>\n",
       "      <th>3</th>\n",
       "      <td>tt0069204</td>\n",
       "      <td>Sabse Bada Sukh</td>\n",
       "      <td>Sabse Bada Sukh</td>\n",
       "      <td>2018</td>\n",
       "      <td>NaN</td>\n",
       "      <td>Comedy,Drama</td>\n",
       "      <td>6.1</td>\n",
       "      <td>13.0</td>\n",
       "    </tr>\n",
       "    <tr>\n",
       "      <th>4</th>\n",
       "      <td>tt0100275</td>\n",
       "      <td>The Wandering Soap Opera</td>\n",
       "      <td>La Telenovela Errante</td>\n",
       "      <td>2017</td>\n",
       "      <td>80.0</td>\n",
       "      <td>Comedy,Drama,Fantasy</td>\n",
       "      <td>6.5</td>\n",
       "      <td>119.0</td>\n",
       "    </tr>\n",
       "  </tbody>\n",
       "</table>\n",
       "</div>"
      ],
      "text/plain": [
       "      tconst                    primary_title              original_title  \\\n",
       "0  tt0063540                        Sunghursh                   Sunghursh   \n",
       "1  tt0066787  One Day Before the Rainy Season             Ashad Ka Ek Din   \n",
       "2  tt0069049       The Other Side of the Wind  The Other Side of the Wind   \n",
       "3  tt0069204                  Sabse Bada Sukh             Sabse Bada Sukh   \n",
       "4  tt0100275         The Wandering Soap Opera       La Telenovela Errante   \n",
       "\n",
       "   start_year  runtime_minutes                genres  averagerating  numvotes  \n",
       "0        2013            175.0    Action,Crime,Drama            7.0      77.0  \n",
       "1        2019            114.0       Biography,Drama            7.2      43.0  \n",
       "2        2018            122.0                 Drama            6.9    4517.0  \n",
       "3        2018              NaN          Comedy,Drama            6.1      13.0  \n",
       "4        2017             80.0  Comedy,Drama,Fantasy            6.5     119.0  "
      ]
     },
     "execution_count": 64,
     "metadata": {},
     "output_type": "execute_result"
    }
   ],
   "source": [
    "imdb_movie.head()"
   ]
  },
  {
   "cell_type": "code",
   "execution_count": 125,
   "metadata": {},
   "outputs": [],
   "source": [
    "def decoding_to_string(series):\n",
    "    '''\n",
    "    this function decode byte string to string literal and splits it at ','\n",
    "    '''\n",
    "    for item in series:\n",
    "        item.decode(\"utf-8\").split(\",\")\n",
    "    return series\n"
   ]
  },
  {
   "cell_type": "code",
   "execution_count": 126,
   "metadata": {},
   "outputs": [],
   "source": [
    "imdb_movie['genres'] = decoding_to_string(imdb_movie['genres'])\n",
    "for genre in imdb_movie['genres']:\n",
    "    print(genre)\n",
    "# .isna().sum()"
   ]
  },
  {
   "cell_type": "code",
   "execution_count": 61,
   "metadata": {},
   "outputs": [],
   "source": [
    "genres_list = genre_id_to_string.values()\n",
    "\n",
    "genre_counter_imdb = {}\n",
    "genre_counter_imdb = dict.fromkeys(genres_list)\n",
    "\n",
    "for genre in genre_counter_imdb.keys():\n",
    "    genre_counter_imdb[genre] =  0\n",
    "    "
   ]
  },
  {
   "cell_type": "code",
   "execution_count": 62,
   "metadata": {},
   "outputs": [
    {
     "data": {
      "text/plain": [
       "{'action': 0,\n",
       " 'animated': 0,\n",
       " 'documentary': 0,\n",
       " 'drama': 0,\n",
       " 'family': 0,\n",
       " 'fantasy': 0,\n",
       " 'history': 0,\n",
       " 'comedy': 0,\n",
       " 'war': 0,\n",
       " 'crime': 0,\n",
       " 'music': 0,\n",
       " 'mystery': 0,\n",
       " 'romance': 0,\n",
       " 'sci-fi': 0,\n",
       " 'horror': 0,\n",
       " 'TV-movie': 0,\n",
       " 'thriller': 0,\n",
       " 'western': 0,\n",
       " 'adventure': 0}"
      ]
     },
     "execution_count": 62,
     "metadata": {},
     "output_type": "execute_result"
    }
   ],
   "source": [
    "for glist in imdb_movie['genres']:\n",
    "    for genre in glist:\n",
    "        if genre in genre_counter_imdb.keys(): \n",
    "            genre_counter_imdb[genre] += 1\n",
    "        \n",
    "genre_counter_imdb"
   ]
  },
  {
   "cell_type": "code",
   "execution_count": null,
   "metadata": {},
   "outputs": [],
   "source": []
  }
 ],
 "metadata": {
  "kernelspec": {
   "display_name": "learn-env",
   "language": "python",
   "name": "learn-env"
  },
  "language_info": {
   "codemirror_mode": {
    "name": "ipython",
    "version": 3
   },
   "file_extension": ".py",
   "mimetype": "text/x-python",
   "name": "python",
   "nbconvert_exporter": "python",
   "pygments_lexer": "ipython3",
   "version": "3.6.9"
  }
 },
 "nbformat": 4,
 "nbformat_minor": 4
}
